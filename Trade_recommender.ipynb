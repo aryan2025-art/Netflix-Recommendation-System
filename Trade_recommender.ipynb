{
  "nbformat": 4,
  "nbformat_minor": 0,
  "metadata": {
    "colab": {
      "provenance": [],
      "authorship_tag": "ABX9TyMp8o81WujJOYfdiYqbvl21",
      "include_colab_link": true
    },
    "kernelspec": {
      "name": "python3",
      "display_name": "Python 3"
    },
    "language_info": {
      "name": "python"
    }
  },
  "cells": [
    {
      "cell_type": "markdown",
      "metadata": {
        "id": "view-in-github",
        "colab_type": "text"
      },
      "source": [
        "<a href=\"https://colab.research.google.com/github/aryan2025-art/Netflix-Recommendation-System/blob/main/Trade_recommender.ipynb\" target=\"_parent\"><img src=\"https://colab.research.google.com/assets/colab-badge.svg\" alt=\"Open In Colab\"/></a>"
      ]
    },
    {
      "cell_type": "code",
      "execution_count": null,
      "metadata": {
        "colab": {
          "base_uri": "https://localhost:8080/"
        },
        "id": "oKbNv3Ng_aKE",
        "outputId": "ae9d6504-a1eb-4d43-e131-863a52e63930"
      },
      "outputs": [
        {
          "output_type": "stream",
          "name": "stdout",
          "text": [
            "Requirement already satisfied: yfinance in /usr/local/lib/python3.11/dist-packages (0.2.61)\n",
            "Requirement already satisfied: pandas>=1.3.0 in /usr/local/lib/python3.11/dist-packages (from yfinance) (2.2.2)\n",
            "Requirement already satisfied: numpy>=1.16.5 in /usr/local/lib/python3.11/dist-packages (from yfinance) (2.0.2)\n",
            "Requirement already satisfied: requests>=2.31 in /usr/local/lib/python3.11/dist-packages (from yfinance) (2.32.3)\n",
            "Requirement already satisfied: multitasking>=0.0.7 in /usr/local/lib/python3.11/dist-packages (from yfinance) (0.0.11)\n",
            "Requirement already satisfied: platformdirs>=2.0.0 in /usr/local/lib/python3.11/dist-packages (from yfinance) (4.3.8)\n",
            "Requirement already satisfied: pytz>=2022.5 in /usr/local/lib/python3.11/dist-packages (from yfinance) (2025.2)\n",
            "Requirement already satisfied: frozendict>=2.3.4 in /usr/local/lib/python3.11/dist-packages (from yfinance) (2.4.6)\n",
            "Requirement already satisfied: peewee>=3.16.2 in /usr/local/lib/python3.11/dist-packages (from yfinance) (3.18.1)\n",
            "Requirement already satisfied: beautifulsoup4>=4.11.1 in /usr/local/lib/python3.11/dist-packages (from yfinance) (4.13.4)\n",
            "Requirement already satisfied: curl_cffi>=0.7 in /usr/local/lib/python3.11/dist-packages (from yfinance) (0.11.1)\n",
            "Requirement already satisfied: protobuf>=3.19.0 in /usr/local/lib/python3.11/dist-packages (from yfinance) (5.29.5)\n",
            "Requirement already satisfied: websockets>=13.0 in /usr/local/lib/python3.11/dist-packages (from yfinance) (15.0.1)\n",
            "Requirement already satisfied: soupsieve>1.2 in /usr/local/lib/python3.11/dist-packages (from beautifulsoup4>=4.11.1->yfinance) (2.7)\n",
            "Requirement already satisfied: typing-extensions>=4.0.0 in /usr/local/lib/python3.11/dist-packages (from beautifulsoup4>=4.11.1->yfinance) (4.14.0)\n",
            "Requirement already satisfied: cffi>=1.12.0 in /usr/local/lib/python3.11/dist-packages (from curl_cffi>=0.7->yfinance) (1.17.1)\n",
            "Requirement already satisfied: certifi>=2024.2.2 in /usr/local/lib/python3.11/dist-packages (from curl_cffi>=0.7->yfinance) (2025.4.26)\n",
            "Requirement already satisfied: python-dateutil>=2.8.2 in /usr/local/lib/python3.11/dist-packages (from pandas>=1.3.0->yfinance) (2.9.0.post0)\n",
            "Requirement already satisfied: tzdata>=2022.7 in /usr/local/lib/python3.11/dist-packages (from pandas>=1.3.0->yfinance) (2025.2)\n",
            "Requirement already satisfied: charset-normalizer<4,>=2 in /usr/local/lib/python3.11/dist-packages (from requests>=2.31->yfinance) (3.4.2)\n",
            "Requirement already satisfied: idna<4,>=2.5 in /usr/local/lib/python3.11/dist-packages (from requests>=2.31->yfinance) (3.10)\n",
            "Requirement already satisfied: urllib3<3,>=1.21.1 in /usr/local/lib/python3.11/dist-packages (from requests>=2.31->yfinance) (2.4.0)\n",
            "Requirement already satisfied: pycparser in /usr/local/lib/python3.11/dist-packages (from cffi>=1.12.0->curl_cffi>=0.7->yfinance) (2.22)\n",
            "Requirement already satisfied: six>=1.5 in /usr/local/lib/python3.11/dist-packages (from python-dateutil>=2.8.2->pandas>=1.3.0->yfinance) (1.17.0)\n"
          ]
        }
      ],
      "source": [
        "pip install yfinance\n"
      ]
    },
    {
      "cell_type": "code",
      "source": [
        "import requests\n",
        "\n",
        "def send_telegram_message(message):\n",
        "    bot_token = '7719067949:AAGDZt5QUJHrfOGJt4frEea0VN08-V00gKA'\n",
        "  # Replace with your bot token\n",
        "    chat_id = '1111276484'\n",
        "      # Replace with your chat ID\n",
        "\n",
        "    url = f'https://api.telegram.org/bot{bot_token}/sendMessage'\n",
        "    data = {'chat_id': chat_id, 'text': message}\n",
        "\n",
        "    response = requests.post(url, data=data)\n",
        "\n",
        "    if response.status_code == 200:\n",
        "        print('📩 Telegram alert sent successfully.')\n",
        "    else:\n",
        "        print('❌ Failed to send Telegram alert.')\n"
      ],
      "metadata": {
        "id": "8Qklc4WNpDjR"
      },
      "execution_count": null,
      "outputs": []
    },
    {
      "cell_type": "code",
      "source": [
        "import yfinance as yf\n",
        "import pandas as pd\n",
        "\n",
        "# Define the tickers\n",
        "tickers = ['EURUSD=X', 'GC=F', 'CL=F', 'TSLA', 'AAPL']\n",
        "\n",
        "# Function to fetch live data\n",
        "def fetch_live_data(ticker):\n",
        "    data = yf.download(ticker, interval='1m', period='1d')\n",
        "    return data\n",
        "\n",
        "# Loop over all tickers and fetch data\n",
        "for ticker in tickers:\n",
        "    df = fetch_live_data(ticker)\n",
        "    print(f\"\\n{ticker} Live Data:\\n\", df.tail())\n"
      ],
      "metadata": {
        "colab": {
          "base_uri": "https://localhost:8080/"
        },
        "id": "0MdbUiO6_gl_",
        "outputId": "55e1969e-02e7-425b-c99b-ea3b1061cf20"
      },
      "execution_count": null,
      "outputs": [
        {
          "output_type": "stream",
          "name": "stderr",
          "text": [
            "\r[*********************100%***********************]  1 of 1 completed\n"
          ]
        },
        {
          "output_type": "stream",
          "name": "stdout",
          "text": [
            "\n",
            "EURUSD=X Live Data:\n",
            " Price                         Close      High       Low      Open   Volume\n",
            "Ticker                     EURUSD=X  EURUSD=X  EURUSD=X  EURUSD=X EURUSD=X\n",
            "Datetime                                                                  \n",
            "2025-06-13 21:25:00+00:00  1.155535  1.155535  1.155535  1.155535        0\n",
            "2025-06-13 21:26:00+00:00  1.155535  1.155535  1.155535  1.155535        0\n",
            "2025-06-13 21:27:00+00:00  1.155535  1.155535  1.155535  1.155535        0\n",
            "2025-06-13 21:28:00+00:00  1.155535  1.155535  1.155535  1.155535        0\n",
            "2025-06-13 21:29:00+00:00  1.155535  1.155535  1.155535  1.155535        0\n"
          ]
        },
        {
          "output_type": "stream",
          "name": "stderr",
          "text": [
            "\r[*********************100%***********************]  1 of 1 completed\n"
          ]
        },
        {
          "output_type": "stream",
          "name": "stdout",
          "text": [
            "\n",
            "GC=F Live Data:\n",
            " Price                            Close         High          Low         Open  \\\n",
            "Ticker                            GC=F         GC=F         GC=F         GC=F   \n",
            "Datetime                                                                        \n",
            "2025-06-13 20:55:00+00:00  3453.899902  3453.899902  3452.600098  3453.000000   \n",
            "2025-06-13 20:56:00+00:00  3454.800049  3454.800049  3453.600098  3453.699951   \n",
            "2025-06-13 20:57:00+00:00  3453.699951  3454.600098  3453.500000  3454.600098   \n",
            "2025-06-13 20:58:00+00:00  3453.399902  3453.899902  3452.600098  3453.800049   \n",
            "2025-06-13 20:59:00+00:00  3452.600098  3453.399902  3451.300049  3453.199951   \n",
            "\n",
            "Price                     Volume  \n",
            "Ticker                      GC=F  \n",
            "Datetime                          \n",
            "2025-06-13 20:55:00+00:00     68  \n",
            "2025-06-13 20:56:00+00:00    101  \n",
            "2025-06-13 20:57:00+00:00     78  \n",
            "2025-06-13 20:58:00+00:00     84  \n",
            "2025-06-13 20:59:00+00:00    288  \n"
          ]
        },
        {
          "output_type": "stream",
          "name": "stderr",
          "text": [
            "[*********************100%***********************]  1 of 1 completed\n",
            "[*********************100%***********************]  1 of 1 completed\n"
          ]
        },
        {
          "output_type": "stream",
          "name": "stdout",
          "text": [
            "\n",
            "CL=F Live Data:\n",
            " Price                          Close       High        Low       Open Volume\n",
            "Ticker                          CL=F       CL=F       CL=F       CL=F   CL=F\n",
            "Datetime                                                                    \n",
            "2025-06-13 20:55:00+00:00  73.190002  73.209999  73.150002  73.209999    261\n",
            "2025-06-13 20:56:00+00:00  73.120003  73.209999  73.019997  73.199997    224\n",
            "2025-06-13 20:57:00+00:00  73.110001  73.139999  73.080002  73.120003     94\n",
            "2025-06-13 20:58:00+00:00  73.169998  73.209999  73.110001  73.110001    123\n",
            "2025-06-13 20:59:00+00:00  73.180000  73.180000  73.150002  73.180000    158\n",
            "\n",
            "TSLA Live Data:\n",
            " Price                           Close        High         Low        Open  \\\n",
            "Ticker                           TSLA        TSLA        TSLA        TSLA   \n",
            "Datetime                                                                    \n",
            "2025-06-13 19:55:00+00:00  325.079193  325.399994  324.200012  324.730011   \n",
            "2025-06-13 19:56:00+00:00  325.572205  325.799988  324.959991  325.079987   \n",
            "2025-06-13 19:57:00+00:00  325.524994  325.869995  325.459991  325.579987   \n",
            "2025-06-13 19:58:00+00:00  325.470001  325.640015  325.364990  325.510010   \n",
            "2025-06-13 19:59:00+00:00  325.350006  325.519989  325.010010  325.429993   \n",
            "\n",
            "Price                      Volume  \n",
            "Ticker                       TSLA  \n",
            "Datetime                           \n",
            "2025-06-13 19:55:00+00:00  460850  \n",
            "2025-06-13 19:56:00+00:00  377576  \n",
            "2025-06-13 19:57:00+00:00  287899  \n",
            "2025-06-13 19:58:00+00:00  412725  \n",
            "2025-06-13 19:59:00+00:00  881957  \n"
          ]
        },
        {
          "output_type": "stream",
          "name": "stderr",
          "text": [
            "\r[*********************100%***********************]  1 of 1 completed\n"
          ]
        },
        {
          "output_type": "stream",
          "name": "stdout",
          "text": [
            "\n",
            "AAPL Live Data:\n",
            " Price                           Close        High         Low        Open  \\\n",
            "Ticker                           AAPL        AAPL        AAPL        AAPL   \n",
            "Datetime                                                                    \n",
            "2025-06-13 19:55:00+00:00  195.860001  196.279999  195.850006  195.960007   \n",
            "2025-06-13 19:56:00+00:00  195.979996  196.115005  195.815002  195.860001   \n",
            "2025-06-13 19:57:00+00:00  195.990005  196.089996  195.925003  195.970001   \n",
            "2025-06-13 19:58:00+00:00  195.980103  196.089996  195.949997  196.000000   \n",
            "2025-06-13 19:59:00+00:00  196.449997  196.509995  195.889999  195.979996   \n",
            "\n",
            "Price                       Volume  \n",
            "Ticker                        AAPL  \n",
            "Datetime                            \n",
            "2025-06-13 19:55:00+00:00   415271  \n",
            "2025-06-13 19:56:00+00:00   276090  \n",
            "2025-06-13 19:57:00+00:00   268942  \n",
            "2025-06-13 19:58:00+00:00   393271  \n",
            "2025-06-13 19:59:00+00:00  1003296  \n"
          ]
        }
      ]
    },
    {
      "cell_type": "code",
      "source": [
        "import sqlite3\n",
        "\n",
        "# Step 1: Connect to SQLite (it will create the DB file if it doesn't exist)\n",
        "conn = sqlite3.connect('trade_recommendation.db')  # This will create the DB file in your current directory\n",
        "cursor = conn.cursor()\n",
        "\n",
        "# Step 2: Create the table\n",
        "cursor.execute('''\n",
        "    CREATE TABLE IF NOT EXISTS live_stock_data (\n",
        "        id INTEGER PRIMARY KEY AUTOINCREMENT,\n",
        "        ticker TEXT,\n",
        "        datetime TEXT,\n",
        "        open_price REAL,\n",
        "        high_price REAL,\n",
        "        low_price REAL,\n",
        "        close_price REAL,\n",
        "        volume REAL\n",
        "    )\n",
        "''')\n",
        "\n",
        "conn.commit()\n",
        "print(\"✅ SQLite database and table created successfully.\")\n",
        "\n",
        "# Step 3: Close the connection for now\n",
        "cursor.close()\n",
        "conn.close()\n",
        "\n"
      ],
      "metadata": {
        "colab": {
          "base_uri": "https://localhost:8080/"
        },
        "id": "vaBRtytVEE7P",
        "outputId": "d5ee0607-268d-4389-f6e1-fbd4555d544f"
      },
      "execution_count": null,
      "outputs": [
        {
          "output_type": "stream",
          "name": "stdout",
          "text": [
            "✅ SQLite database and table created successfully.\n"
          ]
        }
      ]
    },
    {
      "cell_type": "code",
      "source": [
        "import yfinance as yf\n",
        "import sqlite3\n",
        "from datetime import datetime\n",
        "\n",
        "# Step 1: Connect to SQLite\n",
        "conn = sqlite3.connect('trade_recommendation.db')\n",
        "cursor = conn.cursor()\n",
        "\n",
        "# Step 2: Define the tickers\n",
        "tickers = ['EURUSD=X', 'GC=F', 'CL=F', 'TSLA', 'AAPL']\n",
        "\n",
        "# Step 3: Fetch and Insert Data\n",
        "for ticker in tickers:\n",
        "    df = yf.download(ticker, interval='1m', period='1d')\n",
        "\n",
        "    for index, row in df.iterrows():\n",
        "        sql = '''\n",
        "            INSERT INTO live_stock_data (ticker, datetime, open_price, high_price, low_price, close_price, volume)\n",
        "            VALUES (?, ?, ?, ?, ?, ?, ?)\n",
        "        '''\n",
        "        values = (\n",
        "            ticker,\n",
        "            index.strftime('%Y-%m-%d %H:%M:%S'),\n",
        "            float(row['Open']),\n",
        "            float(row['High']),\n",
        "            float(row['Low']),\n",
        "            float(row['Close']),\n",
        "            float(row['Volume'])\n",
        "        )\n",
        "        cursor.execute(sql, values)\n",
        "\n",
        "    conn.commit()\n",
        "    print(f\"✅ Inserted data for {ticker}\")\n",
        "\n",
        "# Step 4: Close connection\n",
        "cursor.close()\n",
        "conn.close()\n",
        "print(\"✅ All data inserted successfully.\")\n",
        "\n"
      ],
      "metadata": {
        "colab": {
          "base_uri": "https://localhost:8080/"
        },
        "id": "swodVA9LE_Ly",
        "outputId": "c31d4dca-ee35-404b-e475-c7a7fbb8a039"
      },
      "execution_count": null,
      "outputs": [
        {
          "output_type": "stream",
          "name": "stderr",
          "text": [
            "\r[*********************100%***********************]  1 of 1 completed\n",
            "<ipython-input-82-3327351997>:24: FutureWarning: Calling float on a single element Series is deprecated and will raise a TypeError in the future. Use float(ser.iloc[0]) instead\n",
            "  float(row['Open']),\n",
            "<ipython-input-82-3327351997>:25: FutureWarning: Calling float on a single element Series is deprecated and will raise a TypeError in the future. Use float(ser.iloc[0]) instead\n",
            "  float(row['High']),\n",
            "<ipython-input-82-3327351997>:26: FutureWarning: Calling float on a single element Series is deprecated and will raise a TypeError in the future. Use float(ser.iloc[0]) instead\n",
            "  float(row['Low']),\n",
            "<ipython-input-82-3327351997>:27: FutureWarning: Calling float on a single element Series is deprecated and will raise a TypeError in the future. Use float(ser.iloc[0]) instead\n",
            "  float(row['Close']),\n",
            "<ipython-input-82-3327351997>:28: FutureWarning: Calling float on a single element Series is deprecated and will raise a TypeError in the future. Use float(ser.iloc[0]) instead\n",
            "  float(row['Volume'])\n"
          ]
        },
        {
          "output_type": "stream",
          "name": "stdout",
          "text": [
            "✅ Inserted data for EURUSD=X\n"
          ]
        },
        {
          "output_type": "stream",
          "name": "stderr",
          "text": [
            "\r[*********************100%***********************]  1 of 1 completed\n",
            "<ipython-input-82-3327351997>:24: FutureWarning: Calling float on a single element Series is deprecated and will raise a TypeError in the future. Use float(ser.iloc[0]) instead\n",
            "  float(row['Open']),\n",
            "<ipython-input-82-3327351997>:25: FutureWarning: Calling float on a single element Series is deprecated and will raise a TypeError in the future. Use float(ser.iloc[0]) instead\n",
            "  float(row['High']),\n",
            "<ipython-input-82-3327351997>:26: FutureWarning: Calling float on a single element Series is deprecated and will raise a TypeError in the future. Use float(ser.iloc[0]) instead\n",
            "  float(row['Low']),\n",
            "<ipython-input-82-3327351997>:27: FutureWarning: Calling float on a single element Series is deprecated and will raise a TypeError in the future. Use float(ser.iloc[0]) instead\n",
            "  float(row['Close']),\n",
            "<ipython-input-82-3327351997>:28: FutureWarning: Calling float on a single element Series is deprecated and will raise a TypeError in the future. Use float(ser.iloc[0]) instead\n",
            "  float(row['Volume'])\n"
          ]
        },
        {
          "output_type": "stream",
          "name": "stdout",
          "text": [
            "✅ Inserted data for GC=F\n"
          ]
        },
        {
          "output_type": "stream",
          "name": "stderr",
          "text": [
            "\r[*********************100%***********************]  1 of 1 completed\n",
            "<ipython-input-82-3327351997>:24: FutureWarning: Calling float on a single element Series is deprecated and will raise a TypeError in the future. Use float(ser.iloc[0]) instead\n",
            "  float(row['Open']),\n",
            "<ipython-input-82-3327351997>:25: FutureWarning: Calling float on a single element Series is deprecated and will raise a TypeError in the future. Use float(ser.iloc[0]) instead\n",
            "  float(row['High']),\n",
            "<ipython-input-82-3327351997>:26: FutureWarning: Calling float on a single element Series is deprecated and will raise a TypeError in the future. Use float(ser.iloc[0]) instead\n",
            "  float(row['Low']),\n",
            "<ipython-input-82-3327351997>:27: FutureWarning: Calling float on a single element Series is deprecated and will raise a TypeError in the future. Use float(ser.iloc[0]) instead\n",
            "  float(row['Close']),\n",
            "<ipython-input-82-3327351997>:28: FutureWarning: Calling float on a single element Series is deprecated and will raise a TypeError in the future. Use float(ser.iloc[0]) instead\n",
            "  float(row['Volume'])\n"
          ]
        },
        {
          "output_type": "stream",
          "name": "stdout",
          "text": [
            "✅ Inserted data for CL=F\n"
          ]
        },
        {
          "output_type": "stream",
          "name": "stderr",
          "text": [
            "\r[*********************100%***********************]  1 of 1 completed\n",
            "<ipython-input-82-3327351997>:24: FutureWarning: Calling float on a single element Series is deprecated and will raise a TypeError in the future. Use float(ser.iloc[0]) instead\n",
            "  float(row['Open']),\n",
            "<ipython-input-82-3327351997>:25: FutureWarning: Calling float on a single element Series is deprecated and will raise a TypeError in the future. Use float(ser.iloc[0]) instead\n",
            "  float(row['High']),\n",
            "<ipython-input-82-3327351997>:26: FutureWarning: Calling float on a single element Series is deprecated and will raise a TypeError in the future. Use float(ser.iloc[0]) instead\n",
            "  float(row['Low']),\n",
            "<ipython-input-82-3327351997>:27: FutureWarning: Calling float on a single element Series is deprecated and will raise a TypeError in the future. Use float(ser.iloc[0]) instead\n",
            "  float(row['Close']),\n",
            "<ipython-input-82-3327351997>:28: FutureWarning: Calling float on a single element Series is deprecated and will raise a TypeError in the future. Use float(ser.iloc[0]) instead\n",
            "  float(row['Volume'])\n",
            "[*********************100%***********************]  1 of 1 completed"
          ]
        },
        {
          "output_type": "stream",
          "name": "stdout",
          "text": [
            "✅ Inserted data for TSLA\n"
          ]
        },
        {
          "output_type": "stream",
          "name": "stderr",
          "text": [
            "\n",
            "<ipython-input-82-3327351997>:24: FutureWarning: Calling float on a single element Series is deprecated and will raise a TypeError in the future. Use float(ser.iloc[0]) instead\n",
            "  float(row['Open']),\n",
            "<ipython-input-82-3327351997>:25: FutureWarning: Calling float on a single element Series is deprecated and will raise a TypeError in the future. Use float(ser.iloc[0]) instead\n",
            "  float(row['High']),\n",
            "<ipython-input-82-3327351997>:26: FutureWarning: Calling float on a single element Series is deprecated and will raise a TypeError in the future. Use float(ser.iloc[0]) instead\n",
            "  float(row['Low']),\n",
            "<ipython-input-82-3327351997>:27: FutureWarning: Calling float on a single element Series is deprecated and will raise a TypeError in the future. Use float(ser.iloc[0]) instead\n",
            "  float(row['Close']),\n",
            "<ipython-input-82-3327351997>:28: FutureWarning: Calling float on a single element Series is deprecated and will raise a TypeError in the future. Use float(ser.iloc[0]) instead\n",
            "  float(row['Volume'])\n"
          ]
        },
        {
          "output_type": "stream",
          "name": "stdout",
          "text": [
            "✅ Inserted data for AAPL\n",
            "✅ All data inserted successfully.\n"
          ]
        }
      ]
    },
    {
      "cell_type": "code",
      "source": [
        "!pip install pandas_ta\n"
      ],
      "metadata": {
        "colab": {
          "base_uri": "https://localhost:8080/"
        },
        "id": "Ai482pj4GWAm",
        "outputId": "0ded4ed9-70eb-446a-bb5d-eee53fa6fd59"
      },
      "execution_count": null,
      "outputs": [
        {
          "output_type": "stream",
          "name": "stdout",
          "text": [
            "Requirement already satisfied: pandas_ta in /usr/local/lib/python3.11/dist-packages (0.3.14b0)\n",
            "Requirement already satisfied: pandas in /usr/local/lib/python3.11/dist-packages (from pandas_ta) (2.2.2)\n",
            "Requirement already satisfied: numpy>=1.23.2 in /usr/local/lib/python3.11/dist-packages (from pandas->pandas_ta) (2.0.2)\n",
            "Requirement already satisfied: python-dateutil>=2.8.2 in /usr/local/lib/python3.11/dist-packages (from pandas->pandas_ta) (2.9.0.post0)\n",
            "Requirement already satisfied: pytz>=2020.1 in /usr/local/lib/python3.11/dist-packages (from pandas->pandas_ta) (2025.2)\n",
            "Requirement already satisfied: tzdata>=2022.7 in /usr/local/lib/python3.11/dist-packages (from pandas->pandas_ta) (2025.2)\n",
            "Requirement already satisfied: six>=1.5 in /usr/local/lib/python3.11/dist-packages (from python-dateutil>=2.8.2->pandas->pandas_ta) (1.17.0)\n"
          ]
        }
      ]
    },
    {
      "cell_type": "code",
      "source": [
        "!pip install ta\n"
      ],
      "metadata": {
        "colab": {
          "base_uri": "https://localhost:8080/"
        },
        "id": "w4flFcY5Glav",
        "outputId": "1ed171aa-5baf-42f3-923d-f4a2de64e932"
      },
      "execution_count": null,
      "outputs": [
        {
          "output_type": "stream",
          "name": "stdout",
          "text": [
            "Requirement already satisfied: ta in /usr/local/lib/python3.11/dist-packages (0.11.0)\n",
            "Requirement already satisfied: numpy in /usr/local/lib/python3.11/dist-packages (from ta) (2.0.2)\n",
            "Requirement already satisfied: pandas in /usr/local/lib/python3.11/dist-packages (from ta) (2.2.2)\n",
            "Requirement already satisfied: python-dateutil>=2.8.2 in /usr/local/lib/python3.11/dist-packages (from pandas->ta) (2.9.0.post0)\n",
            "Requirement already satisfied: pytz>=2020.1 in /usr/local/lib/python3.11/dist-packages (from pandas->ta) (2025.2)\n",
            "Requirement already satisfied: tzdata>=2022.7 in /usr/local/lib/python3.11/dist-packages (from pandas->ta) (2025.2)\n",
            "Requirement already satisfied: six>=1.5 in /usr/local/lib/python3.11/dist-packages (from python-dateutil>=2.8.2->pandas->ta) (1.17.0)\n"
          ]
        }
      ]
    },
    {
      "cell_type": "code",
      "source": [
        "import pandas as pd\n",
        "import sqlite3\n",
        "from ta.momentum import RSIIndicator\n",
        "from ta.trend import SMAIndicator\n",
        "\n",
        "# Step 1: Connect to SQLite\n",
        "conn = sqlite3.connect('trade_recommendation.db')\n",
        "\n",
        "# Step 2: Load the data into a DataFrame\n",
        "query = \"SELECT * FROM live_stock_data\"\n",
        "df = pd.read_sql(query, conn)\n",
        "\n",
        "# Step 3: Close the database connection\n",
        "conn.close()\n",
        "\n",
        "# Step 4: Process data for each stock separately\n",
        "tickers = df['ticker'].unique()\n",
        "indicator_data = {}\n",
        "\n",
        "for ticker in tickers:\n",
        "    stock_df = df[df['ticker'] == ticker].copy()\n",
        "    stock_df['datetime'] = pd.to_datetime(stock_df['datetime'])\n",
        "    stock_df = stock_df.sort_values('datetime')\n",
        "\n",
        "    # Calculate RSI\n",
        "    rsi = RSIIndicator(close=stock_df['close_price'], window=14)\n",
        "    stock_df['RSI'] = rsi.rsi()\n",
        "\n",
        "    # Calculate 20-period Moving Average\n",
        "    ma20 = SMAIndicator(close=stock_df['close_price'], window=20)\n",
        "    stock_df['MA20'] = ma20.sma_indicator()\n",
        "\n",
        "    # Calculate 50-period Moving Average\n",
        "    ma50 = SMAIndicator(close=stock_df['close_price'], window=50)\n",
        "    stock_df['MA50'] = ma50.sma_indicator()\n",
        "\n",
        "    # Save to dictionary for later use\n",
        "    indicator_data[ticker] = stock_df\n",
        "\n",
        "    print(f\"✅ Calculated indicators for {ticker}\")\n",
        "\n",
        "print(\"✅ All technical indicators calculated successfully.\")\n"
      ],
      "metadata": {
        "colab": {
          "base_uri": "https://localhost:8080/"
        },
        "id": "lWXmZj9nGy_Q",
        "outputId": "8c0d7ac5-d256-4a2f-8f3c-2ac21b90ab9d"
      },
      "execution_count": null,
      "outputs": [
        {
          "output_type": "stream",
          "name": "stdout",
          "text": [
            "✅ Calculated indicators for EURUSD=X\n",
            "✅ Calculated indicators for GC=F\n",
            "✅ Calculated indicators for CL=F\n",
            "✅ Calculated indicators for TSLA\n",
            "✅ Calculated indicators for AAPL\n",
            "✅ All technical indicators calculated successfully.\n"
          ]
        }
      ]
    },
    {
      "cell_type": "code",
      "source": [
        "import numpy as np\n",
        "\n",
        "# We will use the first stock for now, you can loop over others later\n",
        "selected_stock = 'TSLA'\n",
        "df_model = indicator_data[selected_stock].copy()\n",
        "\n",
        "# Step 1: Drop rows with NaN values caused by indicator calculations\n",
        "df_model.dropna(inplace=True)\n",
        "\n",
        "# Step 2: Create the target variable\n",
        "# If next close price > current close price → label as 1 (buy), else 0 (don't buy)\n",
        "df_model['target'] = np.where(df_model['close_price'].shift(-1) > df_model['close_price'], 1, 0)\n",
        "\n",
        "# Step 3: Select features and target\n",
        "features = ['RSI', 'MA20', 'MA50']\n",
        "X = df_model[features]\n",
        "y = df_model['target']\n",
        "\n",
        "print(f\"✅ Data prepared for {selected_stock}\")\n",
        "print(f\"Features: {X.shape}\")\n",
        "print(f\"Target: {y.shape}\")\n"
      ],
      "metadata": {
        "colab": {
          "base_uri": "https://localhost:8080/"
        },
        "id": "Z0tJPlgXG5Mo",
        "outputId": "ae9ffcc8-8032-41ca-fd06-a57461372399"
      },
      "execution_count": null,
      "outputs": [
        {
          "output_type": "stream",
          "name": "stdout",
          "text": [
            "✅ Data prepared for TSLA\n",
            "Features: (731, 3)\n",
            "Target: (731,)\n"
          ]
        }
      ]
    },
    {
      "cell_type": "code",
      "source": [
        "import xgboost as xgb\n",
        "from sklearn.model_selection import train_test_split\n",
        "from sklearn.metrics import accuracy_score\n",
        "\n",
        "# Step 1: Split the data\n",
        "X_train, X_test, y_train, y_test = train_test_split(X, y, test_size=0.2, shuffle=False)\n",
        "\n",
        "# Step 2: Initialize the XGBoost Classifier\n",
        "model = xgb.XGBClassifier(use_label_encoder=False, eval_metric='logloss')\n",
        "\n",
        "# Step 3: Train the model\n",
        "model.fit(X_train, y_train)\n",
        "\n",
        "# Step 4: Make predictions\n",
        "y_pred = model.predict(X_test)\n",
        "\n",
        "# Step 5: Evaluate accuracy\n",
        "accuracy = accuracy_score(y_test, y_pred)\n",
        "print(f\"✅ Model trained successfully. Accuracy: {accuracy:.2f}\")\n"
      ],
      "metadata": {
        "colab": {
          "base_uri": "https://localhost:8080/"
        },
        "id": "JEqID0tQHCJf",
        "outputId": "8fba9e47-c3a2-4127-81f3-9a1a3713d191"
      },
      "execution_count": null,
      "outputs": [
        {
          "output_type": "stream",
          "name": "stdout",
          "text": [
            "✅ Model trained successfully. Accuracy: 0.72\n"
          ]
        },
        {
          "output_type": "stream",
          "name": "stderr",
          "text": [
            "/usr/local/lib/python3.11/dist-packages/xgboost/core.py:158: UserWarning: [20:26:21] WARNING: /workspace/src/learner.cc:740: \n",
            "Parameters: { \"use_label_encoder\" } are not used.\n",
            "\n",
            "  warnings.warn(smsg, UserWarning)\n"
          ]
        }
      ]
    },
    {
      "cell_type": "code",
      "source": [
        "import requests\n",
        "\n",
        "# Your Telegram bot token and chat ID\n",
        "bot_token = '7719067949:AAGDZt5QUJHrfOGJt4frEea0VN08-V00gKA'\n",
        "chat_id = '1111276484'\n",
        "\n",
        "\n",
        "def send_telegram_message(message):\n",
        "    url = f'https://api.telegram.org/bot{bot_token}/sendMessage'\n",
        "    payload = {'chat_id': chat_id, 'text': message}\n",
        "    response = requests.post(url, data=payload)\n",
        "    if response.status_code == 200:\n",
        "        print(\"✅ Telegram message sent successfully.\")\n",
        "    else:\n",
        "        print(f\"❌ Failed to send message. Error: {response.text}\")\n",
        "\n",
        "# Send test message\n",
        "send_telegram_message('🚨 Test alert from your Trade Recommendation System!')\n"
      ],
      "metadata": {
        "colab": {
          "base_uri": "https://localhost:8080/"
        },
        "id": "NXfSsYXNL6vW",
        "outputId": "c18427df-1b19-41a2-f038-2f3682faae4e"
      },
      "execution_count": null,
      "outputs": [
        {
          "output_type": "stream",
          "name": "stdout",
          "text": [
            "✅ Telegram message sent successfully.\n"
          ]
        }
      ]
    },
    {
      "cell_type": "code",
      "source": [
        "import time\n",
        "\n",
        "# Example function to simulate checking a trade signal\n",
        "def check_trade_signal():\n",
        "    # In actual project: Add your model prediction or indicator logic here\n",
        "    # Simulate a random buy signal for now\n",
        "    return 'Buy Signal for TSLA'\n",
        "\n",
        "# Real-time monitoring loop\n",
        "while True:\n",
        "    signal = check_trade_signal()\n",
        "    send_telegram_message(f'🚨 Trade Alert: {signal}')\n",
        "\n",
        "    print('✅ Signal sent. Waiting for next check...')\n",
        "\n",
        "    # Check every 5 minutes (300 seconds)\n",
        "    time.sleep(300)\n",
        "try:\n",
        "    while True:\n",
        "        signal = check_trade_signal()\n",
        "        send_telegram_message(f'🚨 Trade Alert: {signal}')\n",
        "\n",
        "        print('✅ Signal sent. Waiting for next check...')\n",
        "        time.sleep(300)\n",
        "except KeyboardInterrupt:\n",
        "    print('\\n⏹️ Monitoring stopped by user.')\n",
        "\n"
      ],
      "metadata": {
        "colab": {
          "base_uri": "https://localhost:8080/",
          "height": 245
        },
        "id": "hT4TdsjMM_kZ",
        "outputId": "d2610657-7084-4808-ba49-917da4d497ba"
      },
      "execution_count": null,
      "outputs": [
        {
          "output_type": "stream",
          "name": "stdout",
          "text": [
            "✅ Telegram message sent successfully.\n",
            "✅ Signal sent. Waiting for next check...\n"
          ]
        },
        {
          "output_type": "error",
          "ename": "KeyboardInterrupt",
          "evalue": "",
          "traceback": [
            "\u001b[0;31m---------------------------------------------------------------------------\u001b[0m",
            "\u001b[0;31mKeyboardInterrupt\u001b[0m                         Traceback (most recent call last)",
            "\u001b[0;32m<ipython-input-89-1528476693>\u001b[0m in \u001b[0;36m<cell line: 0>\u001b[0;34m()\u001b[0m\n\u001b[1;32m     15\u001b[0m \u001b[0;34m\u001b[0m\u001b[0m\n\u001b[1;32m     16\u001b[0m     \u001b[0;31m# Check every 5 minutes (300 seconds)\u001b[0m\u001b[0;34m\u001b[0m\u001b[0;34m\u001b[0m\u001b[0m\n\u001b[0;32m---> 17\u001b[0;31m     \u001b[0mtime\u001b[0m\u001b[0;34m.\u001b[0m\u001b[0msleep\u001b[0m\u001b[0;34m(\u001b[0m\u001b[0;36m300\u001b[0m\u001b[0;34m)\u001b[0m\u001b[0;34m\u001b[0m\u001b[0;34m\u001b[0m\u001b[0m\n\u001b[0m\u001b[1;32m     18\u001b[0m \u001b[0;32mtry\u001b[0m\u001b[0;34m:\u001b[0m\u001b[0;34m\u001b[0m\u001b[0;34m\u001b[0m\u001b[0m\n\u001b[1;32m     19\u001b[0m     \u001b[0;32mwhile\u001b[0m \u001b[0;32mTrue\u001b[0m\u001b[0;34m:\u001b[0m\u001b[0;34m\u001b[0m\u001b[0;34m\u001b[0m\u001b[0m\n",
            "\u001b[0;31mKeyboardInterrupt\u001b[0m: "
          ]
        }
      ]
    },
    {
      "cell_type": "code",
      "source": [
        "import pandas as pd\n",
        "import sqlite3\n",
        "\n",
        "def check_trade_signals():\n",
        "    import sqlite3\n",
        "\n",
        "    # Connect to SQLite database\n",
        "    conn = sqlite3.connect('trade_recommendation.db')\n",
        "    cursor = conn.cursor()\n",
        "\n",
        "    # Step 1: Get the most recent datetime per ticker efficiently\n",
        "    query = \"\"\"\n",
        "    SELECT i.ticker, i.rsi\n",
        "    FROM indicators i\n",
        "    INNER JOIN (\n",
        "        SELECT ticker, MAX(datetime) as max_datetime\n",
        "        FROM indicators\n",
        "        GROUP BY ticker\n",
        "    ) latest\n",
        "    ON i.ticker = latest.ticker AND i.datetime = latest.max_datetime\n",
        "    \"\"\"\n",
        "\n",
        "    cursor.execute(query)\n",
        "    results = cursor.fetchall()\n",
        "    conn.close()\n",
        "\n",
        "    signals = []\n",
        "\n",
        "    for ticker, rsi_value in results:\n",
        "        if rsi_value < 30:\n",
        "            signals.append(f'🔔 Buy Signal for {ticker} (RSI = {rsi_value:.2f})')\n",
        "        elif rsi_value > 70:\n",
        "            signals.append(f'🚨 Sell Signal for {ticker} (RSI = {rsi_value:.2f})')\n",
        "\n",
        "    return signals\n"
      ],
      "metadata": {
        "id": "0mplwNY5N-d8"
      },
      "execution_count": null,
      "outputs": []
    },
    {
      "cell_type": "code",
      "source": [
        "import sqlite3\n",
        "\n",
        "# Connect to your database\n",
        "conn = sqlite3.connect('trade_recommendation.db')\n",
        "cursor = conn.cursor()\n",
        "\n",
        "# Create the indicators table\n",
        "cursor.execute('''\n",
        "    CREATE TABLE IF NOT EXISTS indicators (\n",
        "        ticker TEXT,\n",
        "        datetime TEXT,\n",
        "        rsi REAL,\n",
        "        ma20 REAL,\n",
        "        ma50 REAL\n",
        "    )\n",
        "''')\n",
        "\n",
        "conn.commit()\n",
        "conn.close()\n",
        "\n",
        "print('✅ Table \"indicators\" created successfully.')\n"
      ],
      "metadata": {
        "colab": {
          "base_uri": "https://localhost:8080/"
        },
        "id": "DddbT7XXZdy7",
        "outputId": "2fd599ae-2372-429b-e58d-88a79b729bd1"
      },
      "execution_count": null,
      "outputs": [
        {
          "output_type": "stream",
          "name": "stdout",
          "text": [
            "✅ Table \"indicators\" created successfully.\n"
          ]
        }
      ]
    },
    {
      "cell_type": "code",
      "source": [
        "!pip install pandas_ta==0.3.14b\n"
      ],
      "metadata": {
        "colab": {
          "base_uri": "https://localhost:8080/"
        },
        "id": "rdw0c26hbvV-",
        "outputId": "636250e2-969a-42e9-a64a-c2e0119fb0e4"
      },
      "execution_count": null,
      "outputs": [
        {
          "output_type": "stream",
          "name": "stdout",
          "text": [
            "Requirement already satisfied: pandas_ta==0.3.14b in /usr/local/lib/python3.11/dist-packages (0.3.14b0)\n",
            "Requirement already satisfied: pandas in /usr/local/lib/python3.11/dist-packages (from pandas_ta==0.3.14b) (2.2.2)\n",
            "Requirement already satisfied: numpy>=1.23.2 in /usr/local/lib/python3.11/dist-packages (from pandas->pandas_ta==0.3.14b) (2.0.2)\n",
            "Requirement already satisfied: python-dateutil>=2.8.2 in /usr/local/lib/python3.11/dist-packages (from pandas->pandas_ta==0.3.14b) (2.9.0.post0)\n",
            "Requirement already satisfied: pytz>=2020.1 in /usr/local/lib/python3.11/dist-packages (from pandas->pandas_ta==0.3.14b) (2025.2)\n",
            "Requirement already satisfied: tzdata>=2022.7 in /usr/local/lib/python3.11/dist-packages (from pandas->pandas_ta==0.3.14b) (2025.2)\n",
            "Requirement already satisfied: six>=1.5 in /usr/local/lib/python3.11/dist-packages (from python-dateutil>=2.8.2->pandas->pandas_ta==0.3.14b) (1.17.0)\n"
          ]
        }
      ]
    },
    {
      "cell_type": "code",
      "source": [
        "import time\n",
        "\n",
        "tickers = ['TSLA', 'AAPL', 'EURUSD=X', 'GC=F', 'CL=F']  # Add any tickers you want\n",
        "\n",
        "try:\n",
        "    while True:\n",
        "        for ticker in tickers:\n",
        "            update_indicators(ticker)\n",
        "            print(f'✅ {ticker} updated. Waiting for next ticker...\\n')\n",
        "        print('⏳ Waiting 60 seconds before the next update cycle...\\n')\n",
        "        time.sleep(60)  # Wait 60 seconds before the next cycle\n",
        "\n",
        "except KeyboardInterrupt:\n",
        "    print('🛑 Stopped updating.')\n"
      ],
      "metadata": {
        "colab": {
          "base_uri": "https://localhost:8080/"
        },
        "id": "uLqGfu1CnJ0t",
        "outputId": "ad46ba4e-358c-4680-e094-fe2f801995b2"
      },
      "execution_count": null,
      "outputs": [
        {
          "output_type": "stream",
          "name": "stdout",
          "text": [
            "➡️ Starting update for TSLA...\n"
          ]
        },
        {
          "output_type": "stream",
          "name": "stderr",
          "text": [
            "\r[*********************100%***********************]  1 of 1 completed\n"
          ]
        },
        {
          "output_type": "stream",
          "name": "stdout",
          "text": [
            "✅ Data fetched. Shape: (420, 5)\n",
            "✅ Indicators calculated successfully.\n",
            "RSI latest: 53.79682134571504\n",
            "MA20 latest: 325.0023452758789\n",
            "MA50 latest: 314.19252807617187\n",
            "Recommendation: Hold\n",
            "✅ Indicators for TSLA at 2025-06-13 19:30:00+00:00 stored in DB.\n",
            "✅ TSLA updated. Waiting for next ticker...\n",
            "\n",
            "➡️ Starting update for AAPL...\n"
          ]
        },
        {
          "output_type": "stream",
          "name": "stderr",
          "text": [
            "\r[*********************100%***********************]  1 of 1 completed\n"
          ]
        },
        {
          "output_type": "stream",
          "name": "stdout",
          "text": [
            "✅ Data fetched. Shape: (420, 5)\n",
            "✅ Indicators calculated successfully.\n",
            "RSI latest: 35.69618979170954\n",
            "MA20 latest: 198.35904922485352\n",
            "MA50 latest: 201.03969940185547\n",
            "Recommendation: Hold\n",
            "✅ Indicators for AAPL at 2025-06-13 19:30:00+00:00 stored in DB.\n",
            "✅ AAPL updated. Waiting for next ticker...\n",
            "\n",
            "➡️ Starting update for EURUSD=X...\n"
          ]
        },
        {
          "output_type": "stream",
          "name": "stderr",
          "text": [
            "\r[*********************100%***********************]  1 of 1 completed\n"
          ]
        },
        {
          "output_type": "stream",
          "name": "stdout",
          "text": [
            "✅ Data fetched. Shape: (1427, 5)\n",
            "✅ Indicators calculated successfully.\n",
            "RSI latest: 54.00971571347712\n",
            "MA20 latest: 1.1539767622947692\n",
            "MA50 latest: 1.1549826049804688\n",
            "Recommendation: Hold\n",
            "✅ Indicators for EURUSD=X at 2025-06-13 21:00:00+00:00 stored in DB.\n",
            "✅ EURUSD=X updated. Waiting for next ticker...\n",
            "\n",
            "➡️ Starting update for GC=F...\n"
          ]
        },
        {
          "output_type": "stream",
          "name": "stderr",
          "text": [
            "\r[*********************100%***********************]  1 of 1 completed\n"
          ]
        },
        {
          "output_type": "stream",
          "name": "stdout",
          "text": [
            "✅ Data fetched. Shape: (1143, 5)\n",
            "✅ Indicators calculated successfully.\n",
            "RSI latest: 60.53266201182863\n",
            "MA20 latest: 3448.3650146484374\n",
            "MA50 latest: 3415.8419921875\n",
            "Recommendation: Hold\n",
            "✅ Indicators for GC=F at 2025-06-13 20:00:00+00:00 stored in DB.\n",
            "✅ GC=F updated. Waiting for next ticker...\n",
            "\n",
            "➡️ Starting update for CL=F...\n"
          ]
        },
        {
          "output_type": "stream",
          "name": "stderr",
          "text": [
            "\r[*********************100%***********************]  1 of 1 completed\n"
          ]
        },
        {
          "output_type": "stream",
          "name": "stdout",
          "text": [
            "✅ Data fetched. Shape: (1114, 5)\n",
            "✅ Indicators calculated successfully.\n",
            "RSI latest: 57.32826765243049\n",
            "MA20 latest: 73.14799995422364\n",
            "MA50 latest: 70.13460006713868\n",
            "Recommendation: Hold\n",
            "✅ Indicators for CL=F at 2025-06-13 20:00:00+00:00 stored in DB.\n",
            "✅ CL=F updated. Waiting for next ticker...\n",
            "\n",
            "⏳ Waiting 60 seconds before the next update cycle...\n",
            "\n",
            "🛑 Stopped updating.\n"
          ]
        }
      ]
    },
    {
      "cell_type": "code",
      "source": [
        "import os\n",
        "print(os.path.abspath('trade_recommendation.db'))\n"
      ],
      "metadata": {
        "colab": {
          "base_uri": "https://localhost:8080/"
        },
        "id": "OG9v3nNKoNKQ",
        "outputId": "d8feaba0-163d-454e-f88a-272dbafef9a7"
      },
      "execution_count": null,
      "outputs": [
        {
          "output_type": "stream",
          "name": "stdout",
          "text": [
            "/content/trade_recommendation.db\n"
          ]
        }
      ]
    },
    {
      "cell_type": "code",
      "source": [
        "from google.colab import files\n",
        "files.download('/content/trade_recommendation.db')\n"
      ],
      "metadata": {
        "colab": {
          "base_uri": "https://localhost:8080/",
          "height": 17
        },
        "id": "vh_letbPwW8y",
        "outputId": "1bb9d64b-7796-4ab7-8fdb-8848542067bd"
      },
      "execution_count": null,
      "outputs": [
        {
          "output_type": "display_data",
          "data": {
            "text/plain": [
              "<IPython.core.display.Javascript object>"
            ],
            "application/javascript": [
              "\n",
              "    async function download(id, filename, size) {\n",
              "      if (!google.colab.kernel.accessAllowed) {\n",
              "        return;\n",
              "      }\n",
              "      const div = document.createElement('div');\n",
              "      const label = document.createElement('label');\n",
              "      label.textContent = `Downloading \"${filename}\": `;\n",
              "      div.appendChild(label);\n",
              "      const progress = document.createElement('progress');\n",
              "      progress.max = size;\n",
              "      div.appendChild(progress);\n",
              "      document.body.appendChild(div);\n",
              "\n",
              "      const buffers = [];\n",
              "      let downloaded = 0;\n",
              "\n",
              "      const channel = await google.colab.kernel.comms.open(id);\n",
              "      // Send a message to notify the kernel that we're ready.\n",
              "      channel.send({})\n",
              "\n",
              "      for await (const message of channel.messages) {\n",
              "        // Send a message to notify the kernel that we're ready.\n",
              "        channel.send({})\n",
              "        if (message.buffers) {\n",
              "          for (const buffer of message.buffers) {\n",
              "            buffers.push(buffer);\n",
              "            downloaded += buffer.byteLength;\n",
              "            progress.value = downloaded;\n",
              "          }\n",
              "        }\n",
              "      }\n",
              "      const blob = new Blob(buffers, {type: 'application/binary'});\n",
              "      const a = document.createElement('a');\n",
              "      a.href = window.URL.createObjectURL(blob);\n",
              "      a.download = filename;\n",
              "      div.appendChild(a);\n",
              "      a.click();\n",
              "      div.remove();\n",
              "    }\n",
              "  "
            ]
          },
          "metadata": {}
        },
        {
          "output_type": "display_data",
          "data": {
            "text/plain": [
              "<IPython.core.display.Javascript object>"
            ],
            "application/javascript": [
              "download(\"download_d93cc272-1950-42ff-8952-3d3eecad60f7\", \"trade_recommendation.db\", 602112)"
            ]
          },
          "metadata": {}
        }
      ]
    },
    {
      "cell_type": "code",
      "source": [
        "## ASOL DA\n",
        "import sqlite3\n",
        "import yfinance as yf\n",
        "from ta.trend import SMAIndicator\n",
        "from ta.momentum import RSIIndicator\n",
        "\n",
        "def update_indicators(ticker):\n",
        "    print(f\"➡️ Starting update for {ticker}...\")\n",
        "    data = yf.download(ticker, period='60d', interval='1h')\n",
        "    print(f\"✅ Data fetched. Shape: {data.shape}\")\n",
        "\n",
        "    data.columns = data.columns.get_level_values(0)\n",
        "\n",
        "    try:\n",
        "        data['rsi'] = RSIIndicator(close=data['Close'], window=14).rsi()\n",
        "        data['ma20'] = SMAIndicator(close=data['Close'], window=20).sma_indicator()\n",
        "        data['ma50'] = SMAIndicator(close=data['Close'], window=50).sma_indicator()\n",
        "\n",
        "        latest_row = data.iloc[-1]\n",
        "        rsi_value = float(latest_row['rsi'])\n",
        "        ma20_value = float(latest_row['ma20'])\n",
        "        ma50_value = float(latest_row['ma50'])\n",
        "        latest_datetime = str(latest_row.name)\n",
        "\n",
        "        # ✅ Recommendation logic\n",
        "        if rsi_value > 70:\n",
        "            recommendation = 'Sell'\n",
        "        elif rsi_value < 30:\n",
        "            recommendation = 'Buy'\n",
        "        else:\n",
        "            recommendation = 'Hold'\n",
        "\n",
        "        print(f\"✅ Indicators calculated successfully.\")\n",
        "        print(f\"RSI latest: {rsi_value}\")\n",
        "        print(f\"MA20 latest: {ma20_value}\")\n",
        "        print(f\"MA50 latest: {ma50_value}\")\n",
        "        print(f\"Recommendation: {recommendation}\")\n",
        "\n",
        "        conn = sqlite3.connect('trade_recommendation.db')\n",
        "        cursor = conn.cursor()\n",
        "\n",
        "        cursor.execute('''\n",
        "            INSERT INTO indicators (ticker, datetime, rsi, ma20, ma50, recommendation)\n",
        "            VALUES (?, ?, ?, ?, ?, ?)\n",
        "        ''', (ticker, latest_datetime, rsi_value, ma20_value, ma50_value, recommendation))\n",
        "\n",
        "        conn.commit()\n",
        "        conn.close()\n",
        "\n",
        "        print(f\"✅ Indicators for {ticker} at {latest_datetime} stored in DB.\")\n",
        "\n",
        "    except Exception as e:\n",
        "        print(f\"❌ Error: {e}\")\n"
      ],
      "metadata": {
        "id": "AMfv3igcG0q2"
      },
      "execution_count": null,
      "outputs": []
    },
    {
      "cell_type": "code",
      "source": [
        "update_indicators('TSLA')"
      ],
      "metadata": {
        "colab": {
          "base_uri": "https://localhost:8080/"
        },
        "id": "PfwvvoLsG-OC",
        "outputId": "9c189b1a-5a4a-493d-e36d-83866f500eca"
      },
      "execution_count": null,
      "outputs": [
        {
          "output_type": "stream",
          "name": "stdout",
          "text": [
            "➡️ Starting update for TSLA...\n"
          ]
        },
        {
          "output_type": "stream",
          "name": "stderr",
          "text": [
            "\r[*********************100%***********************]  1 of 1 completed"
          ]
        },
        {
          "output_type": "stream",
          "name": "stdout",
          "text": [
            "✅ Data fetched. Shape: (420, 5)\n",
            "✅ Indicators calculated successfully.\n",
            "RSI latest: 53.79682134571504\n",
            "MA20 latest: 325.0023452758789\n",
            "MA50 latest: 314.19252807617187\n",
            "Recommendation: Hold\n",
            "✅ Indicators for TSLA at 2025-06-13 19:30:00+00:00 stored in DB.\n"
          ]
        },
        {
          "output_type": "stream",
          "name": "stderr",
          "text": [
            "\n"
          ]
        }
      ]
    },
    {
      "cell_type": "code",
      "source": [
        "import sqlite3\n",
        "\n",
        "conn = sqlite3.connect('trade_recommendation.db')\n",
        "cursor = conn.cursor()\n",
        "\n",
        "# Add recommendation column if not exists\n",
        "try:\n",
        "    cursor.execute('ALTER TABLE indicators ADD COLUMN recommendation TEXT;')\n",
        "    print(\"✅ 'recommendation' column added.\")\n",
        "except:\n",
        "    print(\"✅ Column may already exist. Safe to proceed.\")\n",
        "\n",
        "conn.commit()\n",
        "conn.close()\n"
      ],
      "metadata": {
        "id": "7lIGe2LkwmO7",
        "colab": {
          "base_uri": "https://localhost:8080/"
        },
        "outputId": "461e19c8-4f65-4c71-8459-a7207b97b3e7"
      },
      "execution_count": null,
      "outputs": [
        {
          "output_type": "stream",
          "name": "stdout",
          "text": [
            "✅ Column may already exist. Safe to proceed.\n"
          ]
        }
      ]
    },
    {
      "cell_type": "code",
      "source": [
        "import sqlite3\n",
        "import pandas as pd\n",
        "\n",
        "conn = sqlite3.connect('trade_recommendation.db')\n",
        "df = pd.read_sql_query(\"SELECT * FROM indicators ORDER BY datetime DESC LIMIT 5\", conn)\n",
        "conn.close()\n",
        "\n",
        "df\n"
      ],
      "metadata": {
        "colab": {
          "base_uri": "https://localhost:8080/",
          "height": 206
        },
        "id": "9t0txbZH_qsA",
        "outputId": "7a9d4b2a-07fe-4578-a3d2-d3d927e01865"
      },
      "execution_count": null,
      "outputs": [
        {
          "output_type": "execute_result",
          "data": {
            "text/plain": [
              "     ticker                   datetime        rsi         ma20         ma50  \\\n",
              "0  EURUSD=X  2025-06-13 21:00:00+00:00  54.009716     1.153977     1.154983   \n",
              "1  EURUSD=X  2025-06-13 21:00:00+00:00  54.009716     1.153977     1.154983   \n",
              "2  EURUSD=X  2025-06-13 21:00:00+00:00  54.009716     1.153977     1.154983   \n",
              "3  EURUSD=X  2025-06-13 21:00:00+00:00  54.009716     1.153977     1.154983   \n",
              "4      GC=F  2025-06-13 20:00:00+00:00  60.532662  3448.365015  3415.841992   \n",
              "\n",
              "  recommendation     ema20  price_change  \n",
              "0           Hold       NaN           NaN  \n",
              "1           Hold       NaN           NaN  \n",
              "2           Hold  1.154765     -0.023114  \n",
              "3           Hold       NaN           NaN  \n",
              "4           Hold       NaN           NaN  "
            ],
            "text/html": [
              "\n",
              "  <div id=\"df-90f86a18-0117-477c-9c02-0ea3fc2224cf\" class=\"colab-df-container\">\n",
              "    <div>\n",
              "<style scoped>\n",
              "    .dataframe tbody tr th:only-of-type {\n",
              "        vertical-align: middle;\n",
              "    }\n",
              "\n",
              "    .dataframe tbody tr th {\n",
              "        vertical-align: top;\n",
              "    }\n",
              "\n",
              "    .dataframe thead th {\n",
              "        text-align: right;\n",
              "    }\n",
              "</style>\n",
              "<table border=\"1\" class=\"dataframe\">\n",
              "  <thead>\n",
              "    <tr style=\"text-align: right;\">\n",
              "      <th></th>\n",
              "      <th>ticker</th>\n",
              "      <th>datetime</th>\n",
              "      <th>rsi</th>\n",
              "      <th>ma20</th>\n",
              "      <th>ma50</th>\n",
              "      <th>recommendation</th>\n",
              "      <th>ema20</th>\n",
              "      <th>price_change</th>\n",
              "    </tr>\n",
              "  </thead>\n",
              "  <tbody>\n",
              "    <tr>\n",
              "      <th>0</th>\n",
              "      <td>EURUSD=X</td>\n",
              "      <td>2025-06-13 21:00:00+00:00</td>\n",
              "      <td>54.009716</td>\n",
              "      <td>1.153977</td>\n",
              "      <td>1.154983</td>\n",
              "      <td>Hold</td>\n",
              "      <td>NaN</td>\n",
              "      <td>NaN</td>\n",
              "    </tr>\n",
              "    <tr>\n",
              "      <th>1</th>\n",
              "      <td>EURUSD=X</td>\n",
              "      <td>2025-06-13 21:00:00+00:00</td>\n",
              "      <td>54.009716</td>\n",
              "      <td>1.153977</td>\n",
              "      <td>1.154983</td>\n",
              "      <td>Hold</td>\n",
              "      <td>NaN</td>\n",
              "      <td>NaN</td>\n",
              "    </tr>\n",
              "    <tr>\n",
              "      <th>2</th>\n",
              "      <td>EURUSD=X</td>\n",
              "      <td>2025-06-13 21:00:00+00:00</td>\n",
              "      <td>54.009716</td>\n",
              "      <td>1.153977</td>\n",
              "      <td>1.154983</td>\n",
              "      <td>Hold</td>\n",
              "      <td>1.154765</td>\n",
              "      <td>-0.023114</td>\n",
              "    </tr>\n",
              "    <tr>\n",
              "      <th>3</th>\n",
              "      <td>EURUSD=X</td>\n",
              "      <td>2025-06-13 21:00:00+00:00</td>\n",
              "      <td>54.009716</td>\n",
              "      <td>1.153977</td>\n",
              "      <td>1.154983</td>\n",
              "      <td>Hold</td>\n",
              "      <td>NaN</td>\n",
              "      <td>NaN</td>\n",
              "    </tr>\n",
              "    <tr>\n",
              "      <th>4</th>\n",
              "      <td>GC=F</td>\n",
              "      <td>2025-06-13 20:00:00+00:00</td>\n",
              "      <td>60.532662</td>\n",
              "      <td>3448.365015</td>\n",
              "      <td>3415.841992</td>\n",
              "      <td>Hold</td>\n",
              "      <td>NaN</td>\n",
              "      <td>NaN</td>\n",
              "    </tr>\n",
              "  </tbody>\n",
              "</table>\n",
              "</div>\n",
              "    <div class=\"colab-df-buttons\">\n",
              "\n",
              "  <div class=\"colab-df-container\">\n",
              "    <button class=\"colab-df-convert\" onclick=\"convertToInteractive('df-90f86a18-0117-477c-9c02-0ea3fc2224cf')\"\n",
              "            title=\"Convert this dataframe to an interactive table.\"\n",
              "            style=\"display:none;\">\n",
              "\n",
              "  <svg xmlns=\"http://www.w3.org/2000/svg\" height=\"24px\" viewBox=\"0 -960 960 960\">\n",
              "    <path d=\"M120-120v-720h720v720H120Zm60-500h600v-160H180v160Zm220 220h160v-160H400v160Zm0 220h160v-160H400v160ZM180-400h160v-160H180v160Zm440 0h160v-160H620v160ZM180-180h160v-160H180v160Zm440 0h160v-160H620v160Z\"/>\n",
              "  </svg>\n",
              "    </button>\n",
              "\n",
              "  <style>\n",
              "    .colab-df-container {\n",
              "      display:flex;\n",
              "      gap: 12px;\n",
              "    }\n",
              "\n",
              "    .colab-df-convert {\n",
              "      background-color: #E8F0FE;\n",
              "      border: none;\n",
              "      border-radius: 50%;\n",
              "      cursor: pointer;\n",
              "      display: none;\n",
              "      fill: #1967D2;\n",
              "      height: 32px;\n",
              "      padding: 0 0 0 0;\n",
              "      width: 32px;\n",
              "    }\n",
              "\n",
              "    .colab-df-convert:hover {\n",
              "      background-color: #E2EBFA;\n",
              "      box-shadow: 0px 1px 2px rgba(60, 64, 67, 0.3), 0px 1px 3px 1px rgba(60, 64, 67, 0.15);\n",
              "      fill: #174EA6;\n",
              "    }\n",
              "\n",
              "    .colab-df-buttons div {\n",
              "      margin-bottom: 4px;\n",
              "    }\n",
              "\n",
              "    [theme=dark] .colab-df-convert {\n",
              "      background-color: #3B4455;\n",
              "      fill: #D2E3FC;\n",
              "    }\n",
              "\n",
              "    [theme=dark] .colab-df-convert:hover {\n",
              "      background-color: #434B5C;\n",
              "      box-shadow: 0px 1px 3px 1px rgba(0, 0, 0, 0.15);\n",
              "      filter: drop-shadow(0px 1px 2px rgba(0, 0, 0, 0.3));\n",
              "      fill: #FFFFFF;\n",
              "    }\n",
              "  </style>\n",
              "\n",
              "    <script>\n",
              "      const buttonEl =\n",
              "        document.querySelector('#df-90f86a18-0117-477c-9c02-0ea3fc2224cf button.colab-df-convert');\n",
              "      buttonEl.style.display =\n",
              "        google.colab.kernel.accessAllowed ? 'block' : 'none';\n",
              "\n",
              "      async function convertToInteractive(key) {\n",
              "        const element = document.querySelector('#df-90f86a18-0117-477c-9c02-0ea3fc2224cf');\n",
              "        const dataTable =\n",
              "          await google.colab.kernel.invokeFunction('convertToInteractive',\n",
              "                                                    [key], {});\n",
              "        if (!dataTable) return;\n",
              "\n",
              "        const docLinkHtml = 'Like what you see? Visit the ' +\n",
              "          '<a target=\"_blank\" href=https://colab.research.google.com/notebooks/data_table.ipynb>data table notebook</a>'\n",
              "          + ' to learn more about interactive tables.';\n",
              "        element.innerHTML = '';\n",
              "        dataTable['output_type'] = 'display_data';\n",
              "        await google.colab.output.renderOutput(dataTable, element);\n",
              "        const docLink = document.createElement('div');\n",
              "        docLink.innerHTML = docLinkHtml;\n",
              "        element.appendChild(docLink);\n",
              "      }\n",
              "    </script>\n",
              "  </div>\n",
              "\n",
              "\n",
              "    <div id=\"df-29114b90-5f2e-4c26-8707-e277974df079\">\n",
              "      <button class=\"colab-df-quickchart\" onclick=\"quickchart('df-29114b90-5f2e-4c26-8707-e277974df079')\"\n",
              "                title=\"Suggest charts\"\n",
              "                style=\"display:none;\">\n",
              "\n",
              "<svg xmlns=\"http://www.w3.org/2000/svg\" height=\"24px\"viewBox=\"0 0 24 24\"\n",
              "     width=\"24px\">\n",
              "    <g>\n",
              "        <path d=\"M19 3H5c-1.1 0-2 .9-2 2v14c0 1.1.9 2 2 2h14c1.1 0 2-.9 2-2V5c0-1.1-.9-2-2-2zM9 17H7v-7h2v7zm4 0h-2V7h2v10zm4 0h-2v-4h2v4z\"/>\n",
              "    </g>\n",
              "</svg>\n",
              "      </button>\n",
              "\n",
              "<style>\n",
              "  .colab-df-quickchart {\n",
              "      --bg-color: #E8F0FE;\n",
              "      --fill-color: #1967D2;\n",
              "      --hover-bg-color: #E2EBFA;\n",
              "      --hover-fill-color: #174EA6;\n",
              "      --disabled-fill-color: #AAA;\n",
              "      --disabled-bg-color: #DDD;\n",
              "  }\n",
              "\n",
              "  [theme=dark] .colab-df-quickchart {\n",
              "      --bg-color: #3B4455;\n",
              "      --fill-color: #D2E3FC;\n",
              "      --hover-bg-color: #434B5C;\n",
              "      --hover-fill-color: #FFFFFF;\n",
              "      --disabled-bg-color: #3B4455;\n",
              "      --disabled-fill-color: #666;\n",
              "  }\n",
              "\n",
              "  .colab-df-quickchart {\n",
              "    background-color: var(--bg-color);\n",
              "    border: none;\n",
              "    border-radius: 50%;\n",
              "    cursor: pointer;\n",
              "    display: none;\n",
              "    fill: var(--fill-color);\n",
              "    height: 32px;\n",
              "    padding: 0;\n",
              "    width: 32px;\n",
              "  }\n",
              "\n",
              "  .colab-df-quickchart:hover {\n",
              "    background-color: var(--hover-bg-color);\n",
              "    box-shadow: 0 1px 2px rgba(60, 64, 67, 0.3), 0 1px 3px 1px rgba(60, 64, 67, 0.15);\n",
              "    fill: var(--button-hover-fill-color);\n",
              "  }\n",
              "\n",
              "  .colab-df-quickchart-complete:disabled,\n",
              "  .colab-df-quickchart-complete:disabled:hover {\n",
              "    background-color: var(--disabled-bg-color);\n",
              "    fill: var(--disabled-fill-color);\n",
              "    box-shadow: none;\n",
              "  }\n",
              "\n",
              "  .colab-df-spinner {\n",
              "    border: 2px solid var(--fill-color);\n",
              "    border-color: transparent;\n",
              "    border-bottom-color: var(--fill-color);\n",
              "    animation:\n",
              "      spin 1s steps(1) infinite;\n",
              "  }\n",
              "\n",
              "  @keyframes spin {\n",
              "    0% {\n",
              "      border-color: transparent;\n",
              "      border-bottom-color: var(--fill-color);\n",
              "      border-left-color: var(--fill-color);\n",
              "    }\n",
              "    20% {\n",
              "      border-color: transparent;\n",
              "      border-left-color: var(--fill-color);\n",
              "      border-top-color: var(--fill-color);\n",
              "    }\n",
              "    30% {\n",
              "      border-color: transparent;\n",
              "      border-left-color: var(--fill-color);\n",
              "      border-top-color: var(--fill-color);\n",
              "      border-right-color: var(--fill-color);\n",
              "    }\n",
              "    40% {\n",
              "      border-color: transparent;\n",
              "      border-right-color: var(--fill-color);\n",
              "      border-top-color: var(--fill-color);\n",
              "    }\n",
              "    60% {\n",
              "      border-color: transparent;\n",
              "      border-right-color: var(--fill-color);\n",
              "    }\n",
              "    80% {\n",
              "      border-color: transparent;\n",
              "      border-right-color: var(--fill-color);\n",
              "      border-bottom-color: var(--fill-color);\n",
              "    }\n",
              "    90% {\n",
              "      border-color: transparent;\n",
              "      border-bottom-color: var(--fill-color);\n",
              "    }\n",
              "  }\n",
              "</style>\n",
              "\n",
              "      <script>\n",
              "        async function quickchart(key) {\n",
              "          const quickchartButtonEl =\n",
              "            document.querySelector('#' + key + ' button');\n",
              "          quickchartButtonEl.disabled = true;  // To prevent multiple clicks.\n",
              "          quickchartButtonEl.classList.add('colab-df-spinner');\n",
              "          try {\n",
              "            const charts = await google.colab.kernel.invokeFunction(\n",
              "                'suggestCharts', [key], {});\n",
              "          } catch (error) {\n",
              "            console.error('Error during call to suggestCharts:', error);\n",
              "          }\n",
              "          quickchartButtonEl.classList.remove('colab-df-spinner');\n",
              "          quickchartButtonEl.classList.add('colab-df-quickchart-complete');\n",
              "        }\n",
              "        (() => {\n",
              "          let quickchartButtonEl =\n",
              "            document.querySelector('#df-29114b90-5f2e-4c26-8707-e277974df079 button');\n",
              "          quickchartButtonEl.style.display =\n",
              "            google.colab.kernel.accessAllowed ? 'block' : 'none';\n",
              "        })();\n",
              "      </script>\n",
              "    </div>\n",
              "\n",
              "  <div id=\"id_e05e3856-64ad-4e37-abce-09ab571b91b1\">\n",
              "    <style>\n",
              "      .colab-df-generate {\n",
              "        background-color: #E8F0FE;\n",
              "        border: none;\n",
              "        border-radius: 50%;\n",
              "        cursor: pointer;\n",
              "        display: none;\n",
              "        fill: #1967D2;\n",
              "        height: 32px;\n",
              "        padding: 0 0 0 0;\n",
              "        width: 32px;\n",
              "      }\n",
              "\n",
              "      .colab-df-generate:hover {\n",
              "        background-color: #E2EBFA;\n",
              "        box-shadow: 0px 1px 2px rgba(60, 64, 67, 0.3), 0px 1px 3px 1px rgba(60, 64, 67, 0.15);\n",
              "        fill: #174EA6;\n",
              "      }\n",
              "\n",
              "      [theme=dark] .colab-df-generate {\n",
              "        background-color: #3B4455;\n",
              "        fill: #D2E3FC;\n",
              "      }\n",
              "\n",
              "      [theme=dark] .colab-df-generate:hover {\n",
              "        background-color: #434B5C;\n",
              "        box-shadow: 0px 1px 3px 1px rgba(0, 0, 0, 0.15);\n",
              "        filter: drop-shadow(0px 1px 2px rgba(0, 0, 0, 0.3));\n",
              "        fill: #FFFFFF;\n",
              "      }\n",
              "    </style>\n",
              "    <button class=\"colab-df-generate\" onclick=\"generateWithVariable('df')\"\n",
              "            title=\"Generate code using this dataframe.\"\n",
              "            style=\"display:none;\">\n",
              "\n",
              "  <svg xmlns=\"http://www.w3.org/2000/svg\" height=\"24px\"viewBox=\"0 0 24 24\"\n",
              "       width=\"24px\">\n",
              "    <path d=\"M7,19H8.4L18.45,9,17,7.55,7,17.6ZM5,21V16.75L18.45,3.32a2,2,0,0,1,2.83,0l1.4,1.43a1.91,1.91,0,0,1,.58,1.4,1.91,1.91,0,0,1-.58,1.4L9.25,21ZM18.45,9,17,7.55Zm-12,3A5.31,5.31,0,0,0,4.9,8.1,5.31,5.31,0,0,0,1,6.5,5.31,5.31,0,0,0,4.9,4.9,5.31,5.31,0,0,0,6.5,1,5.31,5.31,0,0,0,8.1,4.9,5.31,5.31,0,0,0,12,6.5,5.46,5.46,0,0,0,6.5,12Z\"/>\n",
              "  </svg>\n",
              "    </button>\n",
              "    <script>\n",
              "      (() => {\n",
              "      const buttonEl =\n",
              "        document.querySelector('#id_e05e3856-64ad-4e37-abce-09ab571b91b1 button.colab-df-generate');\n",
              "      buttonEl.style.display =\n",
              "        google.colab.kernel.accessAllowed ? 'block' : 'none';\n",
              "\n",
              "      buttonEl.onclick = () => {\n",
              "        google.colab.notebook.generateWithVariable('df');\n",
              "      }\n",
              "      })();\n",
              "    </script>\n",
              "  </div>\n",
              "\n",
              "    </div>\n",
              "  </div>\n"
            ],
            "application/vnd.google.colaboratory.intrinsic+json": {
              "type": "dataframe",
              "variable_name": "df",
              "summary": "{\n  \"name\": \"df\",\n  \"rows\": 5,\n  \"fields\": [\n    {\n      \"column\": \"ticker\",\n      \"properties\": {\n        \"dtype\": \"category\",\n        \"num_unique_values\": 2,\n        \"samples\": [\n          \"GC=F\",\n          \"EURUSD=X\"\n        ],\n        \"semantic_type\": \"\",\n        \"description\": \"\"\n      }\n    },\n    {\n      \"column\": \"datetime\",\n      \"properties\": {\n        \"dtype\": \"object\",\n        \"num_unique_values\": 2,\n        \"samples\": [\n          \"2025-06-13 20:00:00+00:00\",\n          \"2025-06-13 21:00:00+00:00\"\n        ],\n        \"semantic_type\": \"\",\n        \"description\": \"\"\n      }\n    },\n    {\n      \"column\": \"rsi\",\n      \"properties\": {\n        \"dtype\": \"number\",\n        \"std\": 2.9171502673389185,\n        \"min\": 54.00971571347712,\n        \"max\": 60.53266201182863,\n        \"num_unique_values\": 2,\n        \"samples\": [\n          60.53266201182863,\n          54.00971571347712\n        ],\n        \"semantic_type\": \"\",\n        \"description\": \"\"\n      }\n    },\n    {\n      \"column\": \"ma20\",\n      \"properties\": {\n        \"dtype\": \"number\",\n        \"std\": 1541.6396427002037,\n        \"min\": 1.1539767622947692,\n        \"max\": 3448.3650146484374,\n        \"num_unique_values\": 2,\n        \"samples\": [\n          3448.3650146484374,\n          1.1539767622947692\n        ],\n        \"semantic_type\": \"\",\n        \"description\": \"\"\n      }\n    },\n    {\n      \"column\": \"ma50\",\n      \"properties\": {\n        \"dtype\": \"number\",\n        \"std\": 1527.094455062398,\n        \"min\": 1.1549826049804688,\n        \"max\": 3415.8419921875,\n        \"num_unique_values\": 2,\n        \"samples\": [\n          3415.8419921875,\n          1.1549826049804688\n        ],\n        \"semantic_type\": \"\",\n        \"description\": \"\"\n      }\n    },\n    {\n      \"column\": \"recommendation\",\n      \"properties\": {\n        \"dtype\": \"category\",\n        \"num_unique_values\": 1,\n        \"samples\": [\n          \"Hold\"\n        ],\n        \"semantic_type\": \"\",\n        \"description\": \"\"\n      }\n    },\n    {\n      \"column\": \"ema20\",\n      \"properties\": {\n        \"dtype\": \"number\",\n        \"std\": null,\n        \"min\": 1.1547652826441666,\n        \"max\": 1.1547652826441666,\n        \"num_unique_values\": 1,\n        \"samples\": [\n          1.1547652826441666\n        ],\n        \"semantic_type\": \"\",\n        \"description\": \"\"\n      }\n    },\n    {\n      \"column\": \"price_change\",\n      \"properties\": {\n        \"dtype\": \"number\",\n        \"std\": null,\n        \"min\": -0.02311364642680891,\n        \"max\": -0.02311364642680891,\n        \"num_unique_values\": 1,\n        \"samples\": [\n          -0.02311364642680891\n        ],\n        \"semantic_type\": \"\",\n        \"description\": \"\"\n      }\n    }\n  ]\n}"
            }
          },
          "metadata": {},
          "execution_count": 99
        }
      ]
    },
    {
      "cell_type": "code",
      "source": [
        "import sqlite3\n",
        "import pandas as pd\n",
        "\n",
        "conn = sqlite3.connect('trade_recommendation.db')\n",
        "query = \"SELECT * FROM indicators ORDER BY datetime DESC\"\n",
        "data = pd.read_sql(query, conn)\n",
        "conn.close()\n",
        "\n",
        "print(data.head())\n"
      ],
      "metadata": {
        "id": "6QXOoFNDALB7",
        "colab": {
          "base_uri": "https://localhost:8080/"
        },
        "outputId": "46b217cd-cf39-41c6-8f30-c1424af3b696"
      },
      "execution_count": null,
      "outputs": [
        {
          "output_type": "stream",
          "name": "stdout",
          "text": [
            "     ticker                   datetime        rsi         ma20         ma50  \\\n",
            "0  EURUSD=X  2025-06-13 21:00:00+00:00  54.009716     1.153977     1.154983   \n",
            "1  EURUSD=X  2025-06-13 21:00:00+00:00  54.009716     1.153977     1.154983   \n",
            "2  EURUSD=X  2025-06-13 21:00:00+00:00  54.009716     1.153977     1.154983   \n",
            "3  EURUSD=X  2025-06-13 21:00:00+00:00  54.009716     1.153977     1.154983   \n",
            "4      GC=F  2025-06-13 20:00:00+00:00  60.532662  3448.365015  3415.841992   \n",
            "\n",
            "  recommendation     ema20  price_change  \n",
            "0           Hold       NaN           NaN  \n",
            "1           Hold       NaN           NaN  \n",
            "2           Hold  1.154765     -0.023114  \n",
            "3           Hold       NaN           NaN  \n",
            "4           Hold       NaN           NaN  \n"
          ]
        }
      ]
    },
    {
      "cell_type": "code",
      "source": [
        "import sqlite3\n",
        "\n",
        "# Connect to the same database\n",
        "conn = sqlite3.connect('trade_recommendation (1).db')\n",
        "cursor = conn.cursor()\n",
        "\n",
        "# Fetch and print all table names\n",
        "cursor.execute(\"SELECT name FROM sqlite_master WHERE type='table';\")\n",
        "tables = cursor.fetchall()\n",
        "print(\"Tables:\", tables)\n",
        "\n",
        "# Check structure of the indicators table\n",
        "cursor.execute(\"PRAGMA table_info(indicators);\")\n",
        "columns = cursor.fetchall()\n",
        "\n",
        "print(\"Table Structure:\")\n",
        "for col in columns:\n",
        "    print(col)\n"
      ],
      "metadata": {
        "colab": {
          "base_uri": "https://localhost:8080/"
        },
        "id": "BjFfl9FjIofQ",
        "outputId": "779e19bc-a07d-4c01-9ac8-128c4a5ee428"
      },
      "execution_count": null,
      "outputs": [
        {
          "output_type": "stream",
          "name": "stdout",
          "text": [
            "Tables: []\n",
            "Table Structure:\n"
          ]
        }
      ]
    },
    {
      "cell_type": "code",
      "source": [
        "import sqlite3\n",
        "\n",
        "# Path to your actual database file used during model updates\n",
        "conn = sqlite3.connect('/content/trade_recommendation.db')\n",
        "cursor = conn.cursor()\n",
        "\n",
        "# Show all tables\n",
        "cursor.execute(\"SELECT name FROM sqlite_master WHERE type='table';\")\n",
        "tables = cursor.fetchall()\n",
        "print(\"Tables:\", tables)\n",
        "\n",
        "# Check structure of the indicators table (if it exists)\n",
        "if tables:\n",
        "    cursor.execute(\"PRAGMA table_info(indicators);\")\n",
        "    columns = cursor.fetchall()\n",
        "\n",
        "    print(\"Table Structure:\")\n",
        "    for col in columns:\n",
        "        print(col)\n",
        "else:\n",
        "    print(\"❌ No tables found in this database.\")\n"
      ],
      "metadata": {
        "colab": {
          "base_uri": "https://localhost:8080/"
        },
        "id": "wnv-3sefJ7xf",
        "outputId": "ae291fd7-1c87-4121-99c8-d0044dc05f71"
      },
      "execution_count": null,
      "outputs": [
        {
          "output_type": "stream",
          "name": "stdout",
          "text": [
            "Tables: [('live_stock_data',), ('sqlite_sequence',), ('indicators',)]\n",
            "Table Structure:\n",
            "(0, 'ticker', 'TEXT', 0, None, 0)\n",
            "(1, 'datetime', 'TEXT', 0, None, 0)\n",
            "(2, 'rsi', 'REAL', 0, None, 0)\n",
            "(3, 'ma20', 'REAL', 0, None, 0)\n",
            "(4, 'ma50', 'REAL', 0, None, 0)\n",
            "(5, 'recommendation', 'TEXT', 0, None, 0)\n",
            "(6, 'ema20', 'REAL', 0, None, 0)\n",
            "(7, 'price_change', 'REAL', 0, None, 0)\n"
          ]
        }
      ]
    },
    {
      "cell_type": "code",
      "source": [
        "from google.colab import files\n",
        "files.download('/content/trade_recommendation.db')\n"
      ],
      "metadata": {
        "colab": {
          "base_uri": "https://localhost:8080/",
          "height": 17
        },
        "id": "Bs9kReyUKGvs",
        "outputId": "17de5308-33e3-47d8-cbd4-9a4584636bf5"
      },
      "execution_count": null,
      "outputs": [
        {
          "output_type": "display_data",
          "data": {
            "text/plain": [
              "<IPython.core.display.Javascript object>"
            ],
            "application/javascript": [
              "\n",
              "    async function download(id, filename, size) {\n",
              "      if (!google.colab.kernel.accessAllowed) {\n",
              "        return;\n",
              "      }\n",
              "      const div = document.createElement('div');\n",
              "      const label = document.createElement('label');\n",
              "      label.textContent = `Downloading \"${filename}\": `;\n",
              "      div.appendChild(label);\n",
              "      const progress = document.createElement('progress');\n",
              "      progress.max = size;\n",
              "      div.appendChild(progress);\n",
              "      document.body.appendChild(div);\n",
              "\n",
              "      const buffers = [];\n",
              "      let downloaded = 0;\n",
              "\n",
              "      const channel = await google.colab.kernel.comms.open(id);\n",
              "      // Send a message to notify the kernel that we're ready.\n",
              "      channel.send({})\n",
              "\n",
              "      for await (const message of channel.messages) {\n",
              "        // Send a message to notify the kernel that we're ready.\n",
              "        channel.send({})\n",
              "        if (message.buffers) {\n",
              "          for (const buffer of message.buffers) {\n",
              "            buffers.push(buffer);\n",
              "            downloaded += buffer.byteLength;\n",
              "            progress.value = downloaded;\n",
              "          }\n",
              "        }\n",
              "      }\n",
              "      const blob = new Blob(buffers, {type: 'application/binary'});\n",
              "      const a = document.createElement('a');\n",
              "      a.href = window.URL.createObjectURL(blob);\n",
              "      a.download = filename;\n",
              "      div.appendChild(a);\n",
              "      a.click();\n",
              "      div.remove();\n",
              "    }\n",
              "  "
            ]
          },
          "metadata": {}
        },
        {
          "output_type": "display_data",
          "data": {
            "text/plain": [
              "<IPython.core.display.Javascript object>"
            ],
            "application/javascript": [
              "download(\"download_e36c39cb-44bd-47a4-bf52-549173dc69e7\", \"trade_recommendation.db\", 602112)"
            ]
          },
          "metadata": {}
        }
      ]
    },
    {
      "cell_type": "code",
      "source": [
        "import sqlite3\n",
        "import pandas as pd\n",
        "\n",
        "conn = sqlite3.connect('trade_recommendation.db')\n",
        "data = pd.read_sql_query(\"SELECT * FROM indicators\", conn)\n",
        "conn.close()\n",
        "\n",
        "print(data)\n",
        "print(data['recommendation'].unique())\n"
      ],
      "metadata": {
        "colab": {
          "base_uri": "https://localhost:8080/"
        },
        "id": "EXVHymv5Lyp1",
        "outputId": "1d3951b7-5450-4c42-e3bd-c7774da46f3c"
      },
      "execution_count": null,
      "outputs": [
        {
          "output_type": "stream",
          "name": "stdout",
          "text": [
            "      ticker                   datetime        rsi         ma20         ma50  \\\n",
            "0       TSLA  2025-06-13 19:30:00+00:00  53.796821   325.002345   314.192528   \n",
            "1       TSLA  2025-06-13 19:30:00+00:00  53.796821   325.002345   314.192528   \n",
            "2       TSLA  2025-06-13 19:30:00+00:00  53.796821   325.002345   314.192528   \n",
            "3       AAPL  2025-06-13 19:30:00+00:00  35.696190   198.359049   201.039699   \n",
            "4   EURUSD=X  2025-06-13 21:00:00+00:00  54.009716     1.153977     1.154983   \n",
            "5       GC=F  2025-06-13 20:00:00+00:00  60.532662  3448.365015  3415.841992   \n",
            "6       CL=F  2025-06-13 20:00:00+00:00  57.328268    73.148000    70.134600   \n",
            "7       TSLA  2025-06-13 19:30:00+00:00  53.796821   325.002345   314.192528   \n",
            "8       AAPL  2025-06-13 19:30:00+00:00  35.696190   198.359049   201.039699   \n",
            "9   EURUSD=X  2025-06-13 21:00:00+00:00  54.009716     1.153977     1.154983   \n",
            "10      GC=F  2025-06-13 20:00:00+00:00  60.532662  3448.365015  3415.841992   \n",
            "11      CL=F  2025-06-13 20:00:00+00:00  57.328268    73.148000    70.134600   \n",
            "12      TSLA  2025-06-13 19:30:00+00:00  53.796821   325.002345   314.192528   \n",
            "13      TSLA  2025-06-13 19:30:00+00:00  53.796821   325.002345   314.192528   \n",
            "14      TSLA  2025-06-13 19:30:00+00:00  53.796821   325.002345   314.192528   \n",
            "15      TSLA  2025-06-13 19:30:00+00:00  53.796821   325.002345   314.192528   \n",
            "16      AAPL  2025-06-13 19:30:00+00:00  35.696190   198.359049   201.039699   \n",
            "17  EURUSD=X  2025-06-13 21:00:00+00:00  54.009716     1.153977     1.154983   \n",
            "18      GC=F  2025-06-13 20:00:00+00:00  60.532662  3448.365015  3415.841992   \n",
            "19      CL=F  2025-06-13 20:00:00+00:00  57.328268    73.148000    70.134600   \n",
            "20      TSLA  2025-06-13 19:30:00+00:00  53.796821   325.002345   314.192528   \n",
            "21      TSLA  2025-06-13 19:30:00+00:00  53.796821   325.002345   314.192528   \n",
            "22      TSLA  2025-06-13 19:30:00+00:00  53.796821   325.002345   314.192528   \n",
            "23      TSLA  2025-06-13 19:30:00+00:00  53.796821   325.002345   314.192528   \n",
            "24      TSLA  2025-06-13 19:30:00+00:00  53.796821   325.002345   314.192528   \n",
            "25      AAPL  2025-06-13 19:30:00+00:00  35.696190   198.359049   201.039699   \n",
            "26  EURUSD=X  2025-06-13 21:00:00+00:00  54.009716     1.153977     1.154983   \n",
            "27      GC=F  2025-06-13 20:00:00+00:00  60.532662  3448.365015  3415.841992   \n",
            "28      CL=F  2025-06-13 20:00:00+00:00  57.328268    73.148000    70.134600   \n",
            "29      TSLA  2025-06-13 19:30:00+00:00  53.796821   325.002345   314.192528   \n",
            "\n",
            "   recommendation        ema20  price_change  \n",
            "0            None          NaN           NaN  \n",
            "1            Hold          NaN           NaN  \n",
            "2            Hold          NaN           NaN  \n",
            "3            Hold          NaN           NaN  \n",
            "4            Hold          NaN           NaN  \n",
            "5            Hold          NaN           NaN  \n",
            "6            Hold          NaN           NaN  \n",
            "7            Hold          NaN           NaN  \n",
            "8            Hold          NaN           NaN  \n",
            "9            Hold          NaN           NaN  \n",
            "10           Hold          NaN           NaN  \n",
            "11           Hold          NaN           NaN  \n",
            "12           None   323.261048     -0.518280  \n",
            "13           Hold   323.261048     -0.005183  \n",
            "14           Hold   323.261048     -0.518280  \n",
            "15           Hold   323.261048     -0.518280  \n",
            "16           Hold   198.353005      0.117213  \n",
            "17           Hold     1.154765     -0.023114  \n",
            "18           Hold  3443.258036      0.014484  \n",
            "19           Hold    72.430560      0.068376  \n",
            "20           Hold   323.261048     -0.518280  \n",
            "21           Hold   323.261048     -0.518280  \n",
            "22           Hold          NaN           NaN  \n",
            "23           Hold          NaN           NaN  \n",
            "24           Hold          NaN           NaN  \n",
            "25           Hold          NaN           NaN  \n",
            "26           Hold          NaN           NaN  \n",
            "27           Hold          NaN           NaN  \n",
            "28           Hold          NaN           NaN  \n",
            "29           Hold          NaN           NaN  \n",
            "[None 'Hold']\n"
          ]
        }
      ]
    },
    {
      "cell_type": "code",
      "source": [
        "# File: api_server.py\n",
        "\n",
        "from fastapi import FastAPI\n",
        "import pandas as pd\n",
        "\n",
        "app = FastAPI()\n",
        "\n",
        "# You can adjust the file path to where your latest CSV is saved\n",
        "DATA_FILE_PATH = \"trade_recommendations.csv\"\n",
        "\n",
        "@app.get(\"/get_recommendations\")\n",
        "def get_recommendations():\n",
        "    try:\n",
        "        df = pd.read_csv(DATA_FILE_PATH)\n",
        "        return df.to_dict(orient=\"records\")\n",
        "    except Exception as e:\n",
        "        return {\"error\": str(e)}\n"
      ],
      "metadata": {
        "id": "LBw5eCyHLzjU"
      },
      "execution_count": null,
      "outputs": []
    },
    {
      "cell_type": "code",
      "source": [
        "# Save the API file to the Colab file system\n",
        "api_code = \"\"\"\n",
        "from fastapi import FastAPI\n",
        "import pandas as pd\n",
        "\n",
        "app = FastAPI()\n",
        "\n",
        "# You can adjust the file path to where your latest CSV is saved\n",
        "DATA_FILE_PATH = \"trade_recommendations.csv\"\n",
        "\n",
        "@app.get(\"/get_recommendations\")\n",
        "def get_recommendations():\n",
        "    try:\n",
        "        df = pd.read_csv(DATA_FILE_PATH)\n",
        "        return df.to_dict(orient=\"records\")\n",
        "    except Exception as e:\n",
        "        return {\"error\": str(e)}\n",
        "\"\"\"\n",
        "\n",
        "# Write the file\n",
        "with open('api_server.py', 'w') as f:\n",
        "    f.write(api_code)\n"
      ],
      "metadata": {
        "id": "Jcg_49tqhgt6"
      },
      "execution_count": null,
      "outputs": []
    },
    {
      "cell_type": "markdown",
      "source": [
        "# api_server.py\n",
        "# File: api_server.py\n",
        "\n",
        "from fastapi import FastAPI\n",
        "import pandas as pd\n",
        "\n",
        "app = FastAPI()\n",
        "\n",
        "# You can adjust the file path to where your latest CSV is saved\n",
        "DATA_FILE_PATH = \"trade_recommendations.csv\"\n",
        "\n",
        "@app.get(\"/get_recommendations\")\n",
        "def get_recommendations():\n",
        "    try:\n",
        "        df = pd.read_csv(DATA_FILE_PATH)\n",
        "        return df.to_dict(orient=\"records\")\n",
        "    except Exception as e:\n",
        "        return {\"error\": str(e)}\n"
      ],
      "metadata": {
        "id": "_URTwbc6jeWF"
      }
    }
  ]
}