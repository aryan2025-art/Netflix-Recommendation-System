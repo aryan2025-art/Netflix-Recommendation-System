{
  "nbformat": 4,
  "nbformat_minor": 0,
  "metadata": {
    "colab": {
      "provenance": [],
      "authorship_tag": "ABX9TyMYeS753S0x4hXtRSucewBM",
      "include_colab_link": true
    },
    "kernelspec": {
      "name": "python3",
      "display_name": "Python 3"
    },
    "language_info": {
      "name": "python"
    }
  },
  "cells": [
    {
      "cell_type": "markdown",
      "metadata": {
        "id": "view-in-github",
        "colab_type": "text"
      },
      "source": [
        "<a href=\"https://colab.research.google.com/github/aryan2025-art/Netflix-Recommendation-System/blob/main/Untitled2.ipynb\" target=\"_parent\"><img src=\"https://colab.research.google.com/assets/colab-badge.svg\" alt=\"Open In Colab\"/></a>"
      ]
    },
    {
      "cell_type": "code",
      "source": [
        "from google.colab import files\n",
        "uploaded = files.upload()\n"
      ],
      "metadata": {
        "colab": {
          "base_uri": "https://localhost:8080/",
          "height": 73
        },
        "id": "N0BrXrd6wXea",
        "outputId": "1756c4e1-574c-42ef-eefd-2ac5c9010fa0"
      },
      "execution_count": 5,
      "outputs": [
        {
          "output_type": "display_data",
          "data": {
            "text/plain": [
              "<IPython.core.display.HTML object>"
            ],
            "text/html": [
              "\n",
              "     <input type=\"file\" id=\"files-55dd90b5-52e1-4113-8b45-4d5c37da0c95\" name=\"files[]\" multiple disabled\n",
              "        style=\"border:none\" />\n",
              "     <output id=\"result-55dd90b5-52e1-4113-8b45-4d5c37da0c95\">\n",
              "      Upload widget is only available when the cell has been executed in the\n",
              "      current browser session. Please rerun this cell to enable.\n",
              "      </output>\n",
              "      <script>// Copyright 2017 Google LLC\n",
              "//\n",
              "// Licensed under the Apache License, Version 2.0 (the \"License\");\n",
              "// you may not use this file except in compliance with the License.\n",
              "// You may obtain a copy of the License at\n",
              "//\n",
              "//      http://www.apache.org/licenses/LICENSE-2.0\n",
              "//\n",
              "// Unless required by applicable law or agreed to in writing, software\n",
              "// distributed under the License is distributed on an \"AS IS\" BASIS,\n",
              "// WITHOUT WARRANTIES OR CONDITIONS OF ANY KIND, either express or implied.\n",
              "// See the License for the specific language governing permissions and\n",
              "// limitations under the License.\n",
              "\n",
              "/**\n",
              " * @fileoverview Helpers for google.colab Python module.\n",
              " */\n",
              "(function(scope) {\n",
              "function span(text, styleAttributes = {}) {\n",
              "  const element = document.createElement('span');\n",
              "  element.textContent = text;\n",
              "  for (const key of Object.keys(styleAttributes)) {\n",
              "    element.style[key] = styleAttributes[key];\n",
              "  }\n",
              "  return element;\n",
              "}\n",
              "\n",
              "// Max number of bytes which will be uploaded at a time.\n",
              "const MAX_PAYLOAD_SIZE = 100 * 1024;\n",
              "\n",
              "function _uploadFiles(inputId, outputId) {\n",
              "  const steps = uploadFilesStep(inputId, outputId);\n",
              "  const outputElement = document.getElementById(outputId);\n",
              "  // Cache steps on the outputElement to make it available for the next call\n",
              "  // to uploadFilesContinue from Python.\n",
              "  outputElement.steps = steps;\n",
              "\n",
              "  return _uploadFilesContinue(outputId);\n",
              "}\n",
              "\n",
              "// This is roughly an async generator (not supported in the browser yet),\n",
              "// where there are multiple asynchronous steps and the Python side is going\n",
              "// to poll for completion of each step.\n",
              "// This uses a Promise to block the python side on completion of each step,\n",
              "// then passes the result of the previous step as the input to the next step.\n",
              "function _uploadFilesContinue(outputId) {\n",
              "  const outputElement = document.getElementById(outputId);\n",
              "  const steps = outputElement.steps;\n",
              "\n",
              "  const next = steps.next(outputElement.lastPromiseValue);\n",
              "  return Promise.resolve(next.value.promise).then((value) => {\n",
              "    // Cache the last promise value to make it available to the next\n",
              "    // step of the generator.\n",
              "    outputElement.lastPromiseValue = value;\n",
              "    return next.value.response;\n",
              "  });\n",
              "}\n",
              "\n",
              "/**\n",
              " * Generator function which is called between each async step of the upload\n",
              " * process.\n",
              " * @param {string} inputId Element ID of the input file picker element.\n",
              " * @param {string} outputId Element ID of the output display.\n",
              " * @return {!Iterable<!Object>} Iterable of next steps.\n",
              " */\n",
              "function* uploadFilesStep(inputId, outputId) {\n",
              "  const inputElement = document.getElementById(inputId);\n",
              "  inputElement.disabled = false;\n",
              "\n",
              "  const outputElement = document.getElementById(outputId);\n",
              "  outputElement.innerHTML = '';\n",
              "\n",
              "  const pickedPromise = new Promise((resolve) => {\n",
              "    inputElement.addEventListener('change', (e) => {\n",
              "      resolve(e.target.files);\n",
              "    });\n",
              "  });\n",
              "\n",
              "  const cancel = document.createElement('button');\n",
              "  inputElement.parentElement.appendChild(cancel);\n",
              "  cancel.textContent = 'Cancel upload';\n",
              "  const cancelPromise = new Promise((resolve) => {\n",
              "    cancel.onclick = () => {\n",
              "      resolve(null);\n",
              "    };\n",
              "  });\n",
              "\n",
              "  // Wait for the user to pick the files.\n",
              "  const files = yield {\n",
              "    promise: Promise.race([pickedPromise, cancelPromise]),\n",
              "    response: {\n",
              "      action: 'starting',\n",
              "    }\n",
              "  };\n",
              "\n",
              "  cancel.remove();\n",
              "\n",
              "  // Disable the input element since further picks are not allowed.\n",
              "  inputElement.disabled = true;\n",
              "\n",
              "  if (!files) {\n",
              "    return {\n",
              "      response: {\n",
              "        action: 'complete',\n",
              "      }\n",
              "    };\n",
              "  }\n",
              "\n",
              "  for (const file of files) {\n",
              "    const li = document.createElement('li');\n",
              "    li.append(span(file.name, {fontWeight: 'bold'}));\n",
              "    li.append(span(\n",
              "        `(${file.type || 'n/a'}) - ${file.size} bytes, ` +\n",
              "        `last modified: ${\n",
              "            file.lastModifiedDate ? file.lastModifiedDate.toLocaleDateString() :\n",
              "                                    'n/a'} - `));\n",
              "    const percent = span('0% done');\n",
              "    li.appendChild(percent);\n",
              "\n",
              "    outputElement.appendChild(li);\n",
              "\n",
              "    const fileDataPromise = new Promise((resolve) => {\n",
              "      const reader = new FileReader();\n",
              "      reader.onload = (e) => {\n",
              "        resolve(e.target.result);\n",
              "      };\n",
              "      reader.readAsArrayBuffer(file);\n",
              "    });\n",
              "    // Wait for the data to be ready.\n",
              "    let fileData = yield {\n",
              "      promise: fileDataPromise,\n",
              "      response: {\n",
              "        action: 'continue',\n",
              "      }\n",
              "    };\n",
              "\n",
              "    // Use a chunked sending to avoid message size limits. See b/62115660.\n",
              "    let position = 0;\n",
              "    do {\n",
              "      const length = Math.min(fileData.byteLength - position, MAX_PAYLOAD_SIZE);\n",
              "      const chunk = new Uint8Array(fileData, position, length);\n",
              "      position += length;\n",
              "\n",
              "      const base64 = btoa(String.fromCharCode.apply(null, chunk));\n",
              "      yield {\n",
              "        response: {\n",
              "          action: 'append',\n",
              "          file: file.name,\n",
              "          data: base64,\n",
              "        },\n",
              "      };\n",
              "\n",
              "      let percentDone = fileData.byteLength === 0 ?\n",
              "          100 :\n",
              "          Math.round((position / fileData.byteLength) * 100);\n",
              "      percent.textContent = `${percentDone}% done`;\n",
              "\n",
              "    } while (position < fileData.byteLength);\n",
              "  }\n",
              "\n",
              "  // All done.\n",
              "  yield {\n",
              "    response: {\n",
              "      action: 'complete',\n",
              "    }\n",
              "  };\n",
              "}\n",
              "\n",
              "scope.google = scope.google || {};\n",
              "scope.google.colab = scope.google.colab || {};\n",
              "scope.google.colab._files = {\n",
              "  _uploadFiles,\n",
              "  _uploadFilesContinue,\n",
              "};\n",
              "})(self);\n",
              "</script> "
            ]
          },
          "metadata": {}
        },
        {
          "output_type": "stream",
          "name": "stdout",
          "text": [
            "Saving Electronic_sales_Sep2023-Sep2024.csv to Electronic_sales_Sep2023-Sep2024.csv\n"
          ]
        }
      ]
    },
    {
      "cell_type": "code",
      "source": [
        "import pandas as pd\n",
        "\n",
        "# Load the uploaded CSV\n",
        "df = pd.read_csv(\"Electronic_sales_Sep2023-Sep2024.csv\")\n",
        "\n",
        "# Show the first 5 rows\n",
        "print(\"🔍 Preview of the dataset:\")\n",
        "print(df.head())\n",
        "\n",
        "# Show data types and nulls\n",
        "print(\"\\n🧾 Column Info:\")\n",
        "print(df.info())\n"
      ],
      "metadata": {
        "colab": {
          "base_uri": "https://localhost:8080/"
        },
        "id": "etgJglIayU2D",
        "outputId": "338f4699-dbe4-479f-eae4-d7f7c7cd6a49"
      },
      "execution_count": 6,
      "outputs": [
        {
          "output_type": "stream",
          "name": "stdout",
          "text": [
            "🔍 Preview of the dataset:\n",
            "   Customer ID  Age Gender Loyalty Member Product Type      SKU  Rating  \\\n",
            "0         1000   53   Male             No   Smartphone  SKU1004       2   \n",
            "1         1000   53   Male             No       Tablet  SKU1002       3   \n",
            "2         1002   41   Male             No       Laptop  SKU1005       3   \n",
            "3         1002   41   Male            Yes   Smartphone  SKU1004       2   \n",
            "4         1003   75   Male            Yes   Smartphone  SKU1001       5   \n",
            "\n",
            "  Order Status Payment Method  Total Price  Unit Price  Quantity  \\\n",
            "0    Cancelled    Credit Card      5538.33      791.19         7   \n",
            "1    Completed         Paypal       741.09      247.03         3   \n",
            "2    Completed    Credit Card      1855.84      463.96         4   \n",
            "3    Completed           Cash      3164.76      791.19         4   \n",
            "4    Completed           Cash        41.50       20.75         2   \n",
            "\n",
            "  Purchase Date Shipping Type              Add-ons Purchased  Add-on Total  \n",
            "0    2024-03-20      Standard  Accessory,Accessory,Accessory         40.21  \n",
            "1    2024-04-20     Overnight                   Impulse Item         26.09  \n",
            "2    2023-10-17       Express                            NaN          0.00  \n",
            "3    2024-08-09     Overnight      Impulse Item,Impulse Item         60.16  \n",
            "4    2024-05-21       Express                      Accessory         35.56  \n",
            "\n",
            "🧾 Column Info:\n",
            "<class 'pandas.core.frame.DataFrame'>\n",
            "RangeIndex: 20000 entries, 0 to 19999\n",
            "Data columns (total 16 columns):\n",
            " #   Column             Non-Null Count  Dtype  \n",
            "---  ------             --------------  -----  \n",
            " 0   Customer ID        20000 non-null  int64  \n",
            " 1   Age                20000 non-null  int64  \n",
            " 2   Gender             19999 non-null  object \n",
            " 3   Loyalty Member     20000 non-null  object \n",
            " 4   Product Type       20000 non-null  object \n",
            " 5   SKU                20000 non-null  object \n",
            " 6   Rating             20000 non-null  int64  \n",
            " 7   Order Status       20000 non-null  object \n",
            " 8   Payment Method     20000 non-null  object \n",
            " 9   Total Price        20000 non-null  float64\n",
            " 10  Unit Price         20000 non-null  float64\n",
            " 11  Quantity           20000 non-null  int64  \n",
            " 12  Purchase Date      20000 non-null  object \n",
            " 13  Shipping Type      20000 non-null  object \n",
            " 14  Add-ons Purchased  15132 non-null  object \n",
            " 15  Add-on Total       20000 non-null  float64\n",
            "dtypes: float64(3), int64(4), object(9)\n",
            "memory usage: 2.4+ MB\n",
            "None\n"
          ]
        }
      ]
    },
    {
      "cell_type": "code",
      "source": [
        "# Step 1: Remove rows where the order was cancelled\n",
        "df = df[df['Order Status'] == 'Completed']\n",
        "\n",
        "# Reset row index after filtering\n",
        "df = df.reset_index(drop=True)\n",
        "\n",
        "# Preview cleaned data\n",
        "print(\"✅ Data after removing cancelled orders:\")\n",
        "print(df.head())\n"
      ],
      "metadata": {
        "colab": {
          "base_uri": "https://localhost:8080/"
        },
        "id": "MYSqr4PI0O2M",
        "outputId": "bbcc17cc-5fa1-41f1-9b25-6a7c89fcbbfb"
      },
      "execution_count": 7,
      "outputs": [
        {
          "output_type": "stream",
          "name": "stdout",
          "text": [
            "✅ Data after removing cancelled orders:\n",
            "   Customer ID  Age  Gender Loyalty Member Product Type      SKU  Rating  \\\n",
            "0         1000   53    Male             No       Tablet  SKU1002       3   \n",
            "1         1002   41    Male             No       Laptop  SKU1005       3   \n",
            "2         1002   41    Male            Yes   Smartphone  SKU1004       2   \n",
            "3         1003   75    Male            Yes   Smartphone  SKU1001       5   \n",
            "4         1004   41  Female             No   Smartphone  SKU1001       5   \n",
            "\n",
            "  Order Status Payment Method  Total Price  Unit Price  Quantity  \\\n",
            "0    Completed         Paypal       741.09      247.03         3   \n",
            "1    Completed    Credit Card      1855.84      463.96         4   \n",
            "2    Completed           Cash      3164.76      791.19         4   \n",
            "3    Completed           Cash        41.50       20.75         2   \n",
            "4    Completed    Credit Card        83.00       20.75         4   \n",
            "\n",
            "  Purchase Date Shipping Type          Add-ons Purchased  Add-on Total  \n",
            "0    2024-04-20     Overnight               Impulse Item         26.09  \n",
            "1    2023-10-17       Express                        NaN          0.00  \n",
            "2    2024-08-09     Overnight  Impulse Item,Impulse Item         60.16  \n",
            "3    2024-05-21       Express                  Accessory         35.56  \n",
            "4    2024-05-26      Standard     Impulse Item,Accessory         65.78  \n"
          ]
        }
      ]
    },
    {
      "cell_type": "code",
      "source": [
        "# Check for missing values\n",
        "print(\"🔍 Missing values before cleaning:\")\n",
        "print(df.isnull().sum())\n",
        "\n",
        "# Step 2a: Drop rows where Gender is missing (only 1 row)\n",
        "df = df.dropna(subset=['Gender'])\n",
        "\n",
        "# Step 2b: Fill missing Add-ons Purchased with \"None\"\n",
        "df['Add-ons Purchased'] = df['Add-ons Purchased'].fillna('None')\n",
        "\n",
        "# Reset index after changes\n",
        "df = df.reset_index(drop=True)\n",
        "\n",
        "# Confirm it's clean now\n",
        "print(\"\\n✅ Missing values after cleaning:\")\n",
        "print(df.isnull().sum())\n"
      ],
      "metadata": {
        "colab": {
          "base_uri": "https://localhost:8080/"
        },
        "id": "E3UFcYlh00MK",
        "outputId": "aa9b918d-488a-4147-fead-8cd94877e6be"
      },
      "execution_count": 8,
      "outputs": [
        {
          "output_type": "stream",
          "name": "stdout",
          "text": [
            "🔍 Missing values before cleaning:\n",
            "Customer ID             0\n",
            "Age                     0\n",
            "Gender                  1\n",
            "Loyalty Member          0\n",
            "Product Type            0\n",
            "SKU                     0\n",
            "Rating                  0\n",
            "Order Status            0\n",
            "Payment Method          0\n",
            "Total Price             0\n",
            "Unit Price              0\n",
            "Quantity                0\n",
            "Purchase Date           0\n",
            "Shipping Type           0\n",
            "Add-ons Purchased    3287\n",
            "Add-on Total            0\n",
            "dtype: int64\n",
            "\n",
            "✅ Missing values after cleaning:\n",
            "Customer ID          0\n",
            "Age                  0\n",
            "Gender               0\n",
            "Loyalty Member       0\n",
            "Product Type         0\n",
            "SKU                  0\n",
            "Rating               0\n",
            "Order Status         0\n",
            "Payment Method       0\n",
            "Total Price          0\n",
            "Unit Price           0\n",
            "Quantity             0\n",
            "Purchase Date        0\n",
            "Shipping Type        0\n",
            "Add-ons Purchased    0\n",
            "Add-on Total         0\n",
            "dtype: int64\n"
          ]
        },
        {
          "output_type": "stream",
          "name": "stderr",
          "text": [
            "/tmp/ipython-input-8-1308230221.py:9: SettingWithCopyWarning: \n",
            "A value is trying to be set on a copy of a slice from a DataFrame.\n",
            "Try using .loc[row_indexer,col_indexer] = value instead\n",
            "\n",
            "See the caveats in the documentation: https://pandas.pydata.org/pandas-docs/stable/user_guide/indexing.html#returning-a-view-versus-a-copy\n",
            "  df['Add-ons Purchased'] = df['Add-ons Purchased'].fillna('None')\n"
          ]
        }
      ]
    },
    {
      "cell_type": "code",
      "source": [
        "import matplotlib.pyplot as plt\n",
        "import seaborn as sns\n",
        "\n",
        "# Set the style\n",
        "sns.set(style=\"whitegrid\")\n",
        "\n",
        "# Create a scatter plot\n",
        "plt.figure(figsize=(8, 5))\n",
        "sns.scatterplot(x='Unit Price', y='Quantity', data=df, alpha=0.5)\n",
        "\n",
        "plt.title(\"📊 Quantity vs Unit Price\")\n",
        "plt.xlabel(\"Unit Price\")\n",
        "plt.ylabel(\"Quantity Bought\")\n",
        "plt.show()\n"
      ],
      "metadata": {
        "colab": {
          "base_uri": "https://localhost:8080/",
          "height": 531
        },
        "id": "TeSQc5_11EgS",
        "outputId": "17ad92b3-d3e8-484f-f671-7ab1c89c1e10"
      },
      "execution_count": 9,
      "outputs": [
        {
          "output_type": "stream",
          "name": "stderr",
          "text": [
            "/usr/local/lib/python3.11/dist-packages/IPython/core/pylabtools.py:151: UserWarning: Glyph 128202 (\\N{BAR CHART}) missing from font(s) DejaVu Sans.\n",
            "  fig.canvas.print_figure(bytes_io, **kw)\n"
          ]
        },
        {
          "output_type": "display_data",
          "data": {
            "text/plain": [
              "<Figure size 800x500 with 1 Axes>"
            ],
            "image/png": "[encoded data removed]"
          },
          "metadata": {}
        }
      ]
    },
    {
      "cell_type": "code",
      "source": [
        "# Step 4: Select input features (X) and target variable (y)\n",
        "\n",
        "# Features to use\n",
        "features = ['Unit Price', 'Age', 'Gender', 'Loyalty Member', 'Product Type']\n",
        "\n",
        "# Input features\n",
        "X = df[features]\n",
        "\n",
        "# Target variable: Quantity\n",
        "y = df['Quantity']\n",
        "\n",
        "# Preview shapes\n",
        "print(\"✅ Feature matrix shape:\", X.shape)\n",
        "print(\"🎯 Target shape:\", y.shape)\n"
      ],
      "metadata": {
        "colab": {
          "base_uri": "https://localhost:8080/"
        },
        "id": "8ssDB9bp35Sr",
        "outputId": "babde922-bdb8-4f88-d882-cbbaa92cd61b"
      },
      "execution_count": 10,
      "outputs": [
        {
          "output_type": "stream",
          "name": "stdout",
          "text": [
            "✅ Feature matrix shape: (13431, 5)\n",
            "🎯 Target shape: (13431,)\n"
          ]
        }
      ]
    },
    {
      "cell_type": "code",
      "source": [
        "# Step 5: Encode categorical features\n",
        "X_encoded = pd.get_dummies(X, drop_first=True)\n",
        "\n",
        "# Show the new feature columns after encoding\n",
        "print(\"✅ Encoded feature columns:\")\n",
        "print(X_encoded.columns)\n",
        "\n",
        "# Preview the new feature matrix\n",
        "X_encoded.head()\n"
      ],
      "metadata": {
        "colab": {
          "base_uri": "https://localhost:8080/",
          "height": 293
        },
        "id": "pmF3LiNm47XD",
        "outputId": "fc40f344-5560-4101-c07f-4936dbcd6bd2"
      },
      "execution_count": 11,
      "outputs": [
        {
          "output_type": "stream",
          "name": "stdout",
          "text": [
            "✅ Encoded feature columns:\n",
            "Index(['Unit Price', 'Age', 'Gender_Male', 'Loyalty Member_Yes',\n",
            "       'Product Type_Laptop', 'Product Type_Smartphone',\n",
            "       'Product Type_Smartwatch', 'Product Type_Tablet'],\n",
            "      dtype='object')\n"
          ]
        },
        {
          "output_type": "execute_result",
          "data": {
            "text/plain": [
              "   Unit Price  Age  Gender_Male  Loyalty Member_Yes  Product Type_Laptop  \\\n",
              "0      247.03   53         True               False                False   \n",
              "1      463.96   41         True               False                 True   \n",
              "2      791.19   41         True                True                False   \n",
              "3       20.75   75         True                True                False   \n",
              "4       20.75   41        False               False                False   \n",
              "\n",
              "   Product Type_Smartphone  Product Type_Smartwatch  Product Type_Tablet  \n",
              "0                    False                    False                 True  \n",
              "1                    False                    False                False  \n",
              "2                     True                    False                False  \n",
              "3                     True                    False                False  \n",
              "4                     True                    False                False  "
            ],
            "text/html": [
              "\n",
              "  <div id=\"df-a3327213-aed5-4aeb-bae0-04791bf8d8d3\" class=\"colab-df-container\">\n",
              "    <div>\n",
              "<style scoped>\n",
              "    .dataframe tbody tr th:only-of-type {\n",
              "        vertical-align: middle;\n",
              "    }\n",
              "\n",
              "    .dataframe tbody tr th {\n",
              "        vertical-align: top;\n",
              "    }\n",
              "\n",
              "    .dataframe thead th {\n",
              "        text-align: right;\n",
              "    }\n",
              "</style>\n",
              "<table border=\"1\" class=\"dataframe\">\n",
              "  <thead>\n",
              "    <tr style=\"text-align: right;\">\n",
              "      <th></th>\n",
              "      <th>Unit Price</th>\n",
              "      <th>Age</th>\n",
              "      <th>Gender_Male</th>\n",
              "      <th>Loyalty Member_Yes</th>\n",
              "      <th>Product Type_Laptop</th>\n",
              "      <th>Product Type_Smartphone</th>\n",
              "      <th>Product Type_Smartwatch</th>\n",
              "      <th>Product Type_Tablet</th>\n",
              "    </tr>\n",
              "  </thead>\n",
              "  <tbody>\n",
              "    <tr>\n",
              "      <th>0</th>\n",
              "      <td>247.03</td>\n",
              "      <td>53</td>\n",
              "      <td>True</td>\n",
              "      <td>False</td>\n",
              "      <td>False</td>\n",
              "      <td>False</td>\n",
              "      <td>False</td>\n",
              "      <td>True</td>\n",
              "    </tr>\n",
              "    <tr>\n",
              "      <th>1</th>\n",
              "      <td>463.96</td>\n",
              "      <td>41</td>\n",
              "      <td>True</td>\n",
              "      <td>False</td>\n",
              "      <td>True</td>\n",
              "      <td>False</td>\n",
              "      <td>False</td>\n",
              "      <td>False</td>\n",
              "    </tr>\n",
              "    <tr>\n",
              "      <th>2</th>\n",
              "      <td>791.19</td>\n",
              "      <td>41</td>\n",
              "      <td>True</td>\n",
              "      <td>True</td>\n",
              "      <td>False</td>\n",
              "      <td>True</td>\n",
              "      <td>False</td>\n",
              "      <td>False</td>\n",
              "    </tr>\n",
              "    <tr>\n",
              "      <th>3</th>\n",
              "      <td>20.75</td>\n",
              "      <td>75</td>\n",
              "      <td>True</td>\n",
              "      <td>True</td>\n",
              "      <td>False</td>\n",
              "      <td>True</td>\n",
              "      <td>False</td>\n",
              "      <td>False</td>\n",
              "    </tr>\n",
              "    <tr>\n",
              "      <th>4</th>\n",
              "      <td>20.75</td>\n",
              "      <td>41</td>\n",
              "      <td>False</td>\n",
              "      <td>False</td>\n",
              "      <td>False</td>\n",
              "      <td>True</td>\n",
              "      <td>False</td>\n",
              "      <td>False</td>\n",
              "    </tr>\n",
              "  </tbody>\n",
              "</table>\n",
              "</div>\n",
              "    <div class=\"colab-df-buttons\">\n",
              "\n",
              "  <div class=\"colab-df-container\">\n",
              "    <button class=\"colab-df-convert\" onclick=\"convertToInteractive('df-a3327213-aed5-4aeb-bae0-04791bf8d8d3')\"\n",
              "            title=\"Convert this dataframe to an interactive table.\"\n",
              "            style=\"display:none;\">\n",
              "\n",
              "  <svg xmlns=\"http://www.w3.org/2000/svg\" height=\"24px\" viewBox=\"0 -960 960 960\">\n",
              "    <path d=\"M120-120v-720h720v720H120Zm60-500h600v-160H180v160Zm220 220h160v-160H400v160Zm0 220h160v-160H400v160ZM180-400h160v-160H180v160Zm440 0h160v-160H620v160ZM180-180h160v-160H180v160Zm440 0h160v-160H620v160Z\"/>\n",
              "  </svg>\n",
              "    </button>\n",
              "\n",
              "  <style>\n",
              "    .colab-df-container {\n",
              "      display:flex;\n",
              "      gap: 12px;\n",
              "    }\n",
              "\n",
              "    .colab-df-convert {\n",
              "      background-color: #E8F0FE;\n",
              "      border: none;\n",
              "      border-radius: 50%;\n",
              "      cursor: pointer;\n",
              "      display: none;\n",
              "      fill: #1967D2;\n",
              "      height: 32px;\n",
              "      padding: 0 0 0 0;\n",
              "      width: 32px;\n",
              "    }\n",
              "\n",
              "    .colab-df-convert:hover {\n",
              "      background-color: #E2EBFA;\n",
              "      box-shadow: 0px 1px 2px rgba(60, 64, 67, 0.3), 0px 1px 3px 1px rgba(60, 64, 67, 0.15);\n",
              "      fill: #174EA6;\n",
              "    }\n",
              "\n",
              "    .colab-df-buttons div {\n",
              "      margin-bottom: 4px;\n",
              "    }\n",
              "\n",
              "    [theme=dark] .colab-df-convert {\n",
              "      background-color: #3B4455;\n",
              "      fill: #D2E3FC;\n",
              "    }\n",
              "\n",
              "    [theme=dark] .colab-df-convert:hover {\n",
              "      background-color: #434B5C;\n",
              "      box-shadow: 0px 1px 3px 1px rgba(0, 0, 0, 0.15);\n",
              "      filter: drop-shadow(0px 1px 2px rgba(0, 0, 0, 0.3));\n",
              "      fill: #FFFFFF;\n",
              "    }\n",
              "  </style>\n",
              "\n",
              "    <script>\n",
              "      const buttonEl =\n",
              "        document.querySelector('#df-a3327213-aed5-4aeb-bae0-04791bf8d8d3 button.colab-df-convert');\n",
              "      buttonEl.style.display =\n",
              "        google.colab.kernel.accessAllowed ? 'block' : 'none';\n",
              "\n",
              "      async function convertToInteractive(key) {\n",
              "        const element = document.querySelector('#df-a3327213-aed5-4aeb-bae0-04791bf8d8d3');\n",
              "        const dataTable =\n",
              "          await google.colab.kernel.invokeFunction('convertToInteractive',\n",
              "                                                    [key], {});\n",
              "        if (!dataTable) return;\n",
              "\n",
              "        const docLinkHtml = 'Like what you see? Visit the ' +\n",
              "          '<a target=\"_blank\" href=https://colab.research.google.com/notebooks/data_table.ipynb>data table notebook</a>'\n",
              "          + ' to learn more about interactive tables.';\n",
              "        element.innerHTML = '';\n",
              "        dataTable['output_type'] = 'display_data';\n",
              "        await google.colab.output.renderOutput(dataTable, element);\n",
              "        const docLink = document.createElement('div');\n",
              "        docLink.innerHTML = docLinkHtml;\n",
              "        element.appendChild(docLink);\n",
              "      }\n",
              "    </script>\n",
              "  </div>\n",
              "\n",
              "\n",
              "    <div id=\"df-42d99442-2373-45e9-b13f-26d24bcd77e8\">\n",
              "      <button class=\"colab-df-quickchart\" onclick=\"quickchart('df-42d99442-2373-45e9-b13f-26d24bcd77e8')\"\n",
              "                title=\"Suggest charts\"\n",
              "                style=\"display:none;\">\n",
              "\n",
              "<svg xmlns=\"http://www.w3.org/2000/svg\" height=\"24px\"viewBox=\"0 0 24 24\"\n",
              "     width=\"24px\">\n",
              "    <g>\n",
              "        <path d=\"M19 3H5c-1.1 0-2 .9-2 2v14c0 1.1.9 2 2 2h14c1.1 0 2-.9 2-2V5c0-1.1-.9-2-2-2zM9 17H7v-7h2v7zm4 0h-2V7h2v10zm4 0h-2v-4h2v4z\"/>\n",
              "    </g>\n",
              "</svg>\n",
              "      </button>\n",
              "\n",
              "<style>\n",
              "  .colab-df-quickchart {\n",
              "      --bg-color: #E8F0FE;\n",
              "      --fill-color: #1967D2;\n",
              "      --hover-bg-color: #E2EBFA;\n",
              "      --hover-fill-color: #174EA6;\n",
              "      --disabled-fill-color: #AAA;\n",
              "      --disabled-bg-color: #DDD;\n",
              "  }\n",
              "\n",
              "  [theme=dark] .colab-df-quickchart {\n",
              "      --bg-color: #3B4455;\n",
              "      --fill-color: #D2E3FC;\n",
              "      --hover-bg-color: #434B5C;\n",
              "      --hover-fill-color: #FFFFFF;\n",
              "      --disabled-bg-color: #3B4455;\n",
              "      --disabled-fill-color: #666;\n",
              "  }\n",
              "\n",
              "  .colab-df-quickchart {\n",
              "    background-color: var(--bg-color);\n",
              "    border: none;\n",
              "    border-radius: 50%;\n",
              "    cursor: pointer;\n",
              "    display: none;\n",
              "    fill: var(--fill-color);\n",
              "    height: 32px;\n",
              "    padding: 0;\n",
              "    width: 32px;\n",
              "  }\n",
              "\n",
              "  .colab-df-quickchart:hover {\n",
              "    background-color: var(--hover-bg-color);\n",
              "    box-shadow: 0 1px 2px rgba(60, 64, 67, 0.3), 0 1px 3px 1px rgba(60, 64, 67, 0.15);\n",
              "    fill: var(--button-hover-fill-color);\n",
              "  }\n",
              "\n",
              "  .colab-df-quickchart-complete:disabled,\n",
              "  .colab-df-quickchart-complete:disabled:hover {\n",
              "    background-color: var(--disabled-bg-color);\n",
              "    fill: var(--disabled-fill-color);\n",
              "    box-shadow: none;\n",
              "  }\n",
              "\n",
              "  .colab-df-spinner {\n",
              "    border: 2px solid var(--fill-color);\n",
              "    border-color: transparent;\n",
              "    border-bottom-color: var(--fill-color);\n",
              "    animation:\n",
              "      spin 1s steps(1) infinite;\n",
              "  }\n",
              "\n",
              "  @keyframes spin {\n",
              "    0% {\n",
              "      border-color: transparent;\n",
              "      border-bottom-color: var(--fill-color);\n",
              "      border-left-color: var(--fill-color);\n",
              "    }\n",
              "    20% {\n",
              "      border-color: transparent;\n",
              "      border-left-color: var(--fill-color);\n",
              "      border-top-color: var(--fill-color);\n",
              "    }\n",
              "    30% {\n",
              "      border-color: transparent;\n",
              "      border-left-color: var(--fill-color);\n",
              "      border-top-color: var(--fill-color);\n",
              "      border-right-color: var(--fill-color);\n",
              "    }\n",
              "    40% {\n",
              "      border-color: transparent;\n",
              "      border-right-color: var(--fill-color);\n",
              "      border-top-color: var(--fill-color);\n",
              "    }\n",
              "    60% {\n",
              "      border-color: transparent;\n",
              "      border-right-color: var(--fill-color);\n",
              "    }\n",
              "    80% {\n",
              "      border-color: transparent;\n",
              "      border-right-color: var(--fill-color);\n",
              "      border-bottom-color: var(--fill-color);\n",
              "    }\n",
              "    90% {\n",
              "      border-color: transparent;\n",
              "      border-bottom-color: var(--fill-color);\n",
              "    }\n",
              "  }\n",
              "</style>\n",
              "\n",
              "      <script>\n",
              "        async function quickchart(key) {\n",
              "          const quickchartButtonEl =\n",
              "            document.querySelector('#' + key + ' button');\n",
              "          quickchartButtonEl.disabled = true;  // To prevent multiple clicks.\n",
              "          quickchartButtonEl.classList.add('colab-df-spinner');\n",
              "          try {\n",
              "            const charts = await google.colab.kernel.invokeFunction(\n",
              "                'suggestCharts', [key], {});\n",
              "          } catch (error) {\n",
              "            console.error('Error during call to suggestCharts:', error);\n",
              "          }\n",
              "          quickchartButtonEl.classList.remove('colab-df-spinner');\n",
              "          quickchartButtonEl.classList.add('colab-df-quickchart-complete');\n",
              "        }\n",
              "        (() => {\n",
              "          let quickchartButtonEl =\n",
              "            document.querySelector('#df-42d99442-2373-45e9-b13f-26d24bcd77e8 button');\n",
              "          quickchartButtonEl.style.display =\n",
              "            google.colab.kernel.accessAllowed ? 'block' : 'none';\n",
              "        })();\n",
              "      </script>\n",
              "    </div>\n",
              "\n",
              "    </div>\n",
              "  </div>\n"
            ],
            "application/vnd.google.colaboratory.intrinsic+json": {
              "type": "dataframe",
              "variable_name": "X_encoded",
              "summary": "{\n  \"name\": \"X_encoded\",\n  \"rows\": 13431,\n  \"fields\": [\n    {\n      \"column\": \"Unit Price\",\n      \"properties\": {\n        \"dtype\": \"number\",\n        \"std\": 312.83821633401453,\n        \"min\": 20.75,\n        \"max\": 1139.68,\n        \"num_unique_values\": 13,\n        \"samples\": [\n          459.5,\n          786.41,\n          247.03\n        ],\n        \"semantic_type\": \"\",\n        \"description\": \"\"\n      }\n    },\n    {\n      \"column\": \"Age\",\n      \"properties\": {\n        \"dtype\": \"number\",\n        \"std\": 18,\n        \"min\": 18,\n        \"max\": 80,\n        \"num_unique_values\": 63,\n        \"samples\": [\n          48,\n          68,\n          53\n        ],\n        \"semantic_type\": \"\",\n        \"description\": \"\"\n      }\n    },\n    {\n      \"column\": \"Gender_Male\",\n      \"properties\": {\n        \"dtype\": \"boolean\",\n        \"num_unique_values\": 2,\n        \"samples\": [\n          false,\n          true\n        ],\n        \"semantic_type\": \"\",\n        \"description\": \"\"\n      }\n    },\n    {\n      \"column\": \"Loyalty Member_Yes\",\n      \"properties\": {\n        \"dtype\": \"boolean\",\n        \"num_unique_values\": 2,\n        \"samples\": [\n          true,\n          false\n        ],\n        \"semantic_type\": \"\",\n        \"description\": \"\"\n      }\n    },\n    {\n      \"column\": \"Product Type_Laptop\",\n      \"properties\": {\n        \"dtype\": \"boolean\",\n        \"num_unique_values\": 2,\n        \"samples\": [\n          true,\n          false\n        ],\n        \"semantic_type\": \"\",\n        \"description\": \"\"\n      }\n    },\n    {\n      \"column\": \"Product Type_Smartphone\",\n      \"properties\": {\n        \"dtype\": \"boolean\",\n        \"num_unique_values\": 2,\n        \"samples\": [\n          true,\n          false\n        ],\n        \"semantic_type\": \"\",\n        \"description\": \"\"\n      }\n    },\n    {\n      \"column\": \"Product Type_Smartwatch\",\n      \"properties\": {\n        \"dtype\": \"boolean\",\n        \"num_unique_values\": 2,\n        \"samples\": [\n          true,\n          false\n        ],\n        \"semantic_type\": \"\",\n        \"description\": \"\"\n      }\n    },\n    {\n      \"column\": \"Product Type_Tablet\",\n      \"properties\": {\n        \"dtype\": \"boolean\",\n        \"num_unique_values\": 2,\n        \"samples\": [\n          false,\n          true\n        ],\n        \"semantic_type\": \"\",\n        \"description\": \"\"\n      }\n    }\n  ]\n}"
            }
          },
          "metadata": {},
          "execution_count": 11
        }
      ]
    },
    {
      "cell_type": "code",
      "source": [
        "from sklearn.model_selection import train_test_split\n",
        "from sklearn.linear_model import LinearRegression\n",
        "from sklearn.metrics import mean_squared_error, r2_score\n",
        "\n",
        "# Step 6a: Train-test split\n",
        "X_train, X_test, y_train, y_test = train_test_split(X_encoded, y, test_size=0.2, random_state=42)\n",
        "\n",
        "# Step 6b: Train Linear Regression model\n",
        "model = LinearRegression()\n",
        "model.fit(X_train, y_train)\n",
        "\n",
        "# Step 6c: Predict on test set\n",
        "y_pred = model.predict(X_test)\n",
        "\n",
        "# Step 6d: Evaluate the model\n",
        "mse = mean_squared_error(y_test, y_pred)\n",
        "r2 = r2_score(y_test, y_pred)\n",
        "\n",
        "print(\"✅ Model trained!\")\n",
        "print(f\"📉 Mean Squared Error: {mse:.2f}\")\n",
        "print(f\"📊 R² Score: {r2:.3f}\")\n"
      ],
      "metadata": {
        "id": "GKwlpqy95ME_",
        "colab": {
          "base_uri": "https://localhost:8080/"
        },
        "outputId": "db5ff674-c364-43ab-95a8-ba8356d36d48"
      },
      "execution_count": 12,
      "outputs": [
        {
          "output_type": "stream",
          "name": "stdout",
          "text": [
            "✅ Model trained!\n",
            "📉 Mean Squared Error: 8.35\n",
            "📊 R² Score: -0.002\n"
          ]
        }
      ]
    },
    {
      "cell_type": "code",
      "source": [
        "from sklearn.ensemble import RandomForestRegressor\n",
        "\n",
        "# Step 7a: Train a Random Forest model\n",
        "rf_model = RandomForestRegressor(n_estimators=100, random_state=42)\n",
        "rf_model.fit(X_train, y_train)\n",
        "\n",
        "print(\"🌲 Random Forest model trained successfully!\")\n"
      ],
      "metadata": {
        "colab": {
          "base_uri": "https://localhost:8080/"
        },
        "id": "qz2xDUJYRiC-",
        "outputId": "423e6b74-5b8a-4cc7-e867-c53306ade37c"
      },
      "execution_count": 13,
      "outputs": [
        {
          "output_type": "stream",
          "name": "stdout",
          "text": [
            "🌲 Random Forest model trained successfully!\n"
          ]
        }
      ]
    },
    {
      "cell_type": "code",
      "source": [
        "from sklearn.metrics import mean_squared_error, r2_score\n",
        "\n",
        "# Step 7b: Predict on the test set\n",
        "y_pred_rf = rf_model.predict(X_test)\n",
        "\n",
        "# Calculate metrics\n",
        "mse_rf = mean_squared_error(y_test, y_pred_rf)\n",
        "r2_rf  = r2_score(y_test, y_pred_rf)\n",
        "\n",
        "print(\"✅ Random Forest Evaluation:\")\n",
        "print(f\"📉 Mean Squared Error: {mse_rf:.2f}\")\n",
        "print(f\"📊 R² Score: {r2_rf:.3f}\")\n"
      ],
      "metadata": {
        "colab": {
          "base_uri": "https://localhost:8080/"
        },
        "id": "xO54NVGvSimR",
        "outputId": "2323c17b-de60-47cb-8ea5-dbf654cb1d1e"
      },
      "execution_count": 14,
      "outputs": [
        {
          "output_type": "stream",
          "name": "stdout",
          "text": [
            "✅ Random Forest Evaluation:\n",
            "📉 Mean Squared Error: 9.96\n",
            "📊 R² Score: -0.196\n"
          ]
        }
      ]
    },
    {
      "cell_type": "code",
      "source": [
        "from sklearn.linear_model import LinearRegression\n",
        "import numpy as np\n",
        "\n",
        "# Step 1: Reshape Unit Price into 2D array for sklearn\n",
        "X_price = X_encoded[['Unit Price']]  # Feature: Unit Price\n",
        "y_quantity = y                      # Target: Quantity\n",
        "\n",
        "# Train the simple linear model\n",
        "simple_model = LinearRegression()\n",
        "simple_model.fit(X_price, y_quantity)\n",
        "\n",
        "print(\"✅ Simple Linear Regression model (Quantity ~ Unit Price) trained.\")\n"
      ],
      "metadata": {
        "colab": {
          "base_uri": "https://localhost:8080/"
        },
        "id": "VfcBOSEmSs4H",
        "outputId": "42d0267c-b519-40cf-e117-bad7239e26ae"
      },
      "execution_count": 15,
      "outputs": [
        {
          "output_type": "stream",
          "name": "stdout",
          "text": [
            "✅ Simple Linear Regression model (Quantity ~ Unit Price) trained.\n"
          ]
        }
      ]
    },
    {
      "cell_type": "code",
      "source": [
        "# Step 2: Simulate a range of prices\n",
        "simulated_prices = np.linspace(10, 1000, 100).reshape(-1, 1)  # 100 values between ₹10 and ₹1000\n",
        "\n",
        "# Predict quantity for each simulated price\n",
        "predicted_quantity = simple_model.predict(simulated_prices)\n",
        "\n",
        "# Preview results\n",
        "for price, qty in zip(simulated_prices[:5], predicted_quantity[:5]):\n",
        "    print(f\"Price: ₹{price[0]:.2f} → Predicted Quantity: {qty:.2f}\")\n"
      ],
      "metadata": {
        "colab": {
          "base_uri": "https://localhost:8080/"
        },
        "id": "rFYgZKdkTagh",
        "outputId": "152b998f-1ec0-4ee7-a8ac-26bc97d22fa0"
      },
      "execution_count": 16,
      "outputs": [
        {
          "output_type": "stream",
          "name": "stdout",
          "text": [
            "Price: ₹10.00 → Predicted Quantity: 5.45\n",
            "Price: ₹20.00 → Predicted Quantity: 5.45\n",
            "Price: ₹30.00 → Predicted Quantity: 5.45\n",
            "Price: ₹40.00 → Predicted Quantity: 5.46\n",
            "Price: ₹50.00 → Predicted Quantity: 5.46\n"
          ]
        },
        {
          "output_type": "stream",
          "name": "stderr",
          "text": [
            "/usr/local/lib/python3.11/dist-packages/sklearn/utils/validation.py:2739: UserWarning: X does not have valid feature names, but LinearRegression was fitted with feature names\n",
            "  warnings.warn(\n"
          ]
        }
      ]
    },
    {
      "cell_type": "code",
      "source": [
        "import matplotlib.pyplot as plt\n",
        "\n",
        "# Step 3: Calculate revenue\n",
        "revenue = predicted_quantity * simulated_prices.flatten()\n",
        "\n",
        "# Plot Price vs Revenue\n",
        "plt.figure(figsize=(8, 5))\n",
        "plt.plot(simulated_prices, revenue, color='green')\n",
        "plt.title(\"💰 Revenue vs Unit Price\")\n",
        "plt.xlabel(\"Unit Price (₹)\")\n",
        "plt.ylabel(\"Predicted Revenue (₹)\")\n",
        "plt.grid(True)\n",
        "plt.show()\n"
      ],
      "metadata": {
        "colab": {
          "base_uri": "https://localhost:8080/",
          "height": 531
        },
        "id": "q6Azahl7TiOd",
        "outputId": "d782e4e0-8742-4d4d-dbbd-9ff79334afab"
      },
      "execution_count": 17,
      "outputs": [
        {
          "output_type": "stream",
          "name": "stderr",
          "text": [
            "/usr/local/lib/python3.11/dist-packages/IPython/core/pylabtools.py:151: UserWarning: Glyph 128176 (\\N{MONEY BAG}) missing from font(s) DejaVu Sans.\n",
            "  fig.canvas.print_figure(bytes_io, **kw)\n"
          ]
        },
        {
          "output_type": "display_data",
          "data": {
            "text/plain": [
              "<Figure size 800x500 with 1 Axes>"
            ],
            "image/png": "[encoded data removed]"
          },
          "metadata": {}
        }
      ]
    },
    {
      "cell_type": "code",
      "source": [
        "from sklearn.preprocessing import PolynomialFeatures\n",
        "\n",
        "# Step 4a: Generate polynomial features (degree 2)\n",
        "poly = PolynomialFeatures(degree=2)\n",
        "X_price_poly = poly.fit_transform(X_price)\n",
        "\n",
        "# Step 4b: Train a new model on the polynomial features\n",
        "poly_model = LinearRegression()\n",
        "poly_model.fit(X_price_poly, y_quantity)\n",
        "\n",
        "print(\"✅ Polynomial (Quadratic) Regression model trained.\")\n"
      ],
      "metadata": {
        "colab": {
          "base_uri": "https://localhost:8080/"
        },
        "id": "qdxnzw0hT3U5",
        "outputId": "678a7415-fc09-4793-8f00-86bc45704fbd"
      },
      "execution_count": 18,
      "outputs": [
        {
          "output_type": "stream",
          "name": "stdout",
          "text": [
            "✅ Polynomial (Quadratic) Regression model trained.\n"
          ]
        }
      ]
    },
    {
      "cell_type": "code",
      "source": [
        "# Step 5: Simulate prices again\n",
        "simulated_prices = np.linspace(10, 1000, 200).reshape(-1, 1)\n",
        "simulated_prices_poly = poly.transform(simulated_prices)\n",
        "\n",
        "# Predict quantity using the quadratic model\n",
        "predicted_quantity_poly = poly_model.predict(simulated_prices_poly)\n",
        "\n",
        "# Calculate revenue\n",
        "revenue_poly = simulated_prices.flatten() * predicted_quantity_poly\n",
        "\n",
        "# Plot Price vs Revenue\n",
        "plt.figure(figsize=(8, 5))\n",
        "plt.plot(simulated_prices, revenue_poly, color='orange')\n",
        "plt.title(\"💰 Revenue vs Unit Price (Polynomial Model)\")\n",
        "plt.xlabel(\"Unit Price (₹)\")\n",
        "plt.ylabel(\"Predicted Revenue (₹)\")\n",
        "plt.grid(True)\n",
        "plt.show()\n"
      ],
      "metadata": {
        "colab": {
          "base_uri": "https://localhost:8080/",
          "height": 565
        },
        "id": "n7dZT5ZgUaOI",
        "outputId": "60066c99-e19d-4dd3-ed82-94ecd35cd3ac"
      },
      "execution_count": 19,
      "outputs": [
        {
          "output_type": "stream",
          "name": "stderr",
          "text": [
            "/usr/local/lib/python3.11/dist-packages/sklearn/utils/validation.py:2739: UserWarning: X does not have valid feature names, but PolynomialFeatures was fitted with feature names\n",
            "  warnings.warn(\n",
            "/usr/local/lib/python3.11/dist-packages/IPython/core/pylabtools.py:151: UserWarning: Glyph 128176 (\\N{MONEY BAG}) missing from font(s) DejaVu Sans.\n",
            "  fig.canvas.print_figure(bytes_io, **kw)\n"
          ]
        },
        {
          "output_type": "display_data",
          "data": {
            "text/plain": [
              "<Figure size 800x500 with 1 Axes>"
            ],
            "image/png": "[encoded data removed]"
          },
          "metadata": {}
        }
      ]
    },
    {
      "cell_type": "code",
      "source": [
        "# Step 6: Find the price that gives maximum revenue\n",
        "max_index = np.argmax(revenue_poly)\n",
        "best_price = simulated_prices[max_index][0]\n",
        "best_quantity = predicted_quantity_poly[max_index]\n",
        "best_revenue = revenue_poly[max_index]\n",
        "\n",
        "print(f\"💰 Best Price: ₹{best_price:.2f}\")\n",
        "print(f\"📦 Predicted Quantity at this price: {best_quantity:.2f}\")\n",
        "print(f\"📈 Expected Revenue: ₹{best_revenue:.2f}\")\n"
      ],
      "metadata": {
        "colab": {
          "base_uri": "https://localhost:8080/"
        },
        "id": "NmTLv1akUi-V",
        "outputId": "3ec2a13c-a798-4cc9-8c9e-f1f9a71a317a"
      },
      "execution_count": 20,
      "outputs": [
        {
          "output_type": "stream",
          "name": "stdout",
          "text": [
            "💰 Best Price: ₹1000.00\n",
            "📦 Predicted Quantity at this price: 5.49\n",
            "📈 Expected Revenue: ₹5492.62\n"
          ]
        }
      ]
    },
    {
      "cell_type": "code",
      "source": [],
      "metadata": {
        "id": "IKympn3GVe-6"
      },
      "execution_count": null,
      "outputs": []
    }
  ]
}